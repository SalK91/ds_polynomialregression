{
 "cells": [
  {
   "cell_type": "markdown",
   "metadata": {
    "id": "AQqh5DMaq9QW"
   },
   "source": [
    "### If running this notebook in Google Colab, run the following cells first. Make sure you've placed the Q12 and Q34 sales data in the same Google Drive folder as this notebook."
   ]
  },
  {
   "cell_type": "code",
   "execution_count": null,
   "metadata": {
    "id": "8n75mujnrqU4"
   },
   "outputs": [],
   "source": [
    "!pip install -U -q PyDrive\n",
    "from pydrive.auth import GoogleAuth\n",
    "from pydrive.drive import GoogleDrive\n",
    "from google.colab import auth\n",
    "from oauth2client.client import GoogleCredentials"
   ]
  },
  {
   "cell_type": "code",
   "execution_count": null,
   "metadata": {
    "id": "HT1yuyN5zJ19"
   },
   "outputs": [],
   "source": [
    "auth.authenticate_user()\n",
    "gauth = GoogleAuth()\n",
    "gauth.credentials = GoogleCredentials.get_application_default()\n",
    "drive = GoogleDrive(gauth)"
   ]
  },
  {
   "cell_type": "markdown",
   "metadata": {
    "id": "q6AR4c7ivMtD"
   },
   "source": [
    "Replace the ID with ID of file you want to access. To get this ID: \n",
    "\n",
    "1.   Right-click on the name of the appropriate file in your Google Drive\n",
    "2.   Click \"Get link\"\n",
    "3.   Copy the characters between `d/` and the following slash\n",
    "4.   Paste them into the dictionary argument of the call to `drive.CreateFile()` as the value associated with the 'id' key. Make sure that this value is a string.\n",
    "\n"
   ]
  },
  {
   "cell_type": "code",
   "execution_count": null,
   "metadata": {
    "id": "mb5xkL1QzPYg"
   },
   "outputs": [],
   "source": [
    "# Replace the ID with ID of file you want to access\n",
    "Q12 = drive.CreateFile({'id':'1pwF6XDL_NcJQfDuFdZY85_Vo8qxSsWxS'}) \n",
    "Q12.GetContentFile('sales_Q12_2019.csv') \n",
    "Q34 = drive.CreateFile({'id':'165FxdfiSFR0-cbqieMe6qGv2GfFbKF7N'}) \n",
    "Q34.GetContentFile('sales_Q34_2019.csv') "
   ]
  },
  {
   "cell_type": "markdown",
   "metadata": {
    "id": "OI6NP0JBdnM5"
   },
   "source": [
    "### Import the necessary modules"
   ]
  },
  {
   "cell_type": "code",
   "execution_count": null,
   "metadata": {
    "id": "WdNx3CHEdnM5"
   },
   "outputs": [],
   "source": [
    "import os\n",
    "import numpy as np\n",
    "import pandas as pd\n",
    "import matplotlib.pyplot as plt"
   ]
  },
  {
   "cell_type": "markdown",
   "metadata": {
    "id": "dM4fGT-ldnM8"
   },
   "source": [
    "### Read in the CSV file containing the California sales data for Quarters 1 and 2\n",
    "\n",
    "Then examine the data's shape and first few rows"
   ]
  },
  {
   "cell_type": "code",
   "execution_count": null,
   "metadata": {
    "colab": {
     "base_uri": "https://localhost:8080/",
     "height": 318
    },
    "id": "jj2l01M8dnM9",
    "outputId": "5719112e-d33b-4a91-8ca3-34e33286cac9"
   },
   "outputs": [
    {
     "name": "stdout",
     "output_type": "stream",
     "text": [
      "(5837, 76)\n"
     ]
    },
    {
     "data": {
      "text/html": [
       "<div>\n",
       "<style scoped>\n",
       "    .dataframe tbody tr th:only-of-type {\n",
       "        vertical-align: middle;\n",
       "    }\n",
       "\n",
       "    .dataframe tbody tr th {\n",
       "        vertical-align: top;\n",
       "    }\n",
       "\n",
       "    .dataframe thead th {\n",
       "        text-align: right;\n",
       "    }\n",
       "</style>\n",
       "<table border=\"1\" class=\"dataframe\">\n",
       "  <thead>\n",
       "    <tr style=\"text-align: right;\">\n",
       "      <th></th>\n",
       "      <th>main_S60_1</th>\n",
       "      <th>main_S60_2</th>\n",
       "      <th>main_type_SP100D</th>\n",
       "      <th>main_type_S60D_1</th>\n",
       "      <th>main_type_S60D_2</th>\n",
       "      <th>main_type_S70</th>\n",
       "      <th>main_type_S70D</th>\n",
       "      <th>main_type_S75</th>\n",
       "      <th>main_type_S75D</th>\n",
       "      <th>main_type_S80</th>\n",
       "      <th>main_type_S80D</th>\n",
       "      <th>main_type_S85</th>\n",
       "      <th>main_type_S85P</th>\n",
       "      <th>main_type_P85D</th>\n",
       "      <th>main_type_S90</th>\n",
       "      <th>main_type_S90D</th>\n",
       "      <th>main_type_S100D</th>\n",
       "      <th>engine_A</th>\n",
       "      <th>engine_B</th>\n",
       "      <th>engine_C</th>\n",
       "      <th>engine_D</th>\n",
       "      <th>engine_E</th>\n",
       "      <th>engine_F</th>\n",
       "      <th>engine_G</th>\n",
       "      <th>engine_H</th>\n",
       "      <th>engine_I</th>\n",
       "      <th>engine_J</th>\n",
       "      <th>engine_K</th>\n",
       "      <th>engine_L</th>\n",
       "      <th>engine_M</th>\n",
       "      <th>engine_N</th>\n",
       "      <th>engine_O</th>\n",
       "      <th>engine_P</th>\n",
       "      <th>engine_Q</th>\n",
       "      <th>engine_R</th>\n",
       "      <th>engine_S</th>\n",
       "      <th>engine_T</th>\n",
       "      <th>engine_U</th>\n",
       "      <th>engine_V</th>\n",
       "      <th>engine_W</th>\n",
       "      <th>engine_X</th>\n",
       "      <th>engine_Y</th>\n",
       "      <th>engine_Z</th>\n",
       "      <th>sales_1</th>\n",
       "      <th>sales_2</th>\n",
       "      <th>sales_3</th>\n",
       "      <th>sales_4</th>\n",
       "      <th>sales_5</th>\n",
       "      <th>sales_6</th>\n",
       "      <th>sales_7</th>\n",
       "      <th>sales_8</th>\n",
       "      <th>sales_9</th>\n",
       "      <th>sales_10</th>\n",
       "      <th>sales_11</th>\n",
       "      <th>sales_12</th>\n",
       "      <th>sales_13</th>\n",
       "      <th>sales_14</th>\n",
       "      <th>sales_15</th>\n",
       "      <th>sales_16</th>\n",
       "      <th>sales_17</th>\n",
       "      <th>sales_18</th>\n",
       "      <th>sales_19</th>\n",
       "      <th>sales_20</th>\n",
       "      <th>sales_21</th>\n",
       "      <th>sales_22</th>\n",
       "      <th>sales_23</th>\n",
       "      <th>sales_24</th>\n",
       "      <th>sales_25</th>\n",
       "      <th>sales_26</th>\n",
       "      <th>sales_27</th>\n",
       "      <th>sales_28</th>\n",
       "      <th>sales_29</th>\n",
       "      <th>sales_30</th>\n",
       "      <th>MSRP</th>\n",
       "      <th>dealer_state</th>\n",
       "      <th>date</th>\n",
       "    </tr>\n",
       "  </thead>\n",
       "  <tbody>\n",
       "    <tr>\n",
       "      <th>0</th>\n",
       "      <td>0</td>\n",
       "      <td>0</td>\n",
       "      <td>0</td>\n",
       "      <td>0</td>\n",
       "      <td>0</td>\n",
       "      <td>1</td>\n",
       "      <td>0</td>\n",
       "      <td>0</td>\n",
       "      <td>0</td>\n",
       "      <td>0</td>\n",
       "      <td>0</td>\n",
       "      <td>0</td>\n",
       "      <td>0</td>\n",
       "      <td>0</td>\n",
       "      <td>0</td>\n",
       "      <td>0</td>\n",
       "      <td>0</td>\n",
       "      <td>0</td>\n",
       "      <td>0</td>\n",
       "      <td>0</td>\n",
       "      <td>0</td>\n",
       "      <td>0</td>\n",
       "      <td>0</td>\n",
       "      <td>0</td>\n",
       "      <td>0</td>\n",
       "      <td>0</td>\n",
       "      <td>0</td>\n",
       "      <td>0</td>\n",
       "      <td>0</td>\n",
       "      <td>0</td>\n",
       "      <td>0</td>\n",
       "      <td>0</td>\n",
       "      <td>0</td>\n",
       "      <td>0</td>\n",
       "      <td>0</td>\n",
       "      <td>0</td>\n",
       "      <td>0</td>\n",
       "      <td>0</td>\n",
       "      <td>0</td>\n",
       "      <td>0</td>\n",
       "      <td>0</td>\n",
       "      <td>0</td>\n",
       "      <td>0</td>\n",
       "      <td>0</td>\n",
       "      <td>0</td>\n",
       "      <td>0</td>\n",
       "      <td>0</td>\n",
       "      <td>0</td>\n",
       "      <td>0</td>\n",
       "      <td>0</td>\n",
       "      <td>1</td>\n",
       "      <td>0</td>\n",
       "      <td>0</td>\n",
       "      <td>0</td>\n",
       "      <td>0</td>\n",
       "      <td>0</td>\n",
       "      <td>0</td>\n",
       "      <td>0</td>\n",
       "      <td>0</td>\n",
       "      <td>0</td>\n",
       "      <td>0</td>\n",
       "      <td>0</td>\n",
       "      <td>0</td>\n",
       "      <td>0</td>\n",
       "      <td>0</td>\n",
       "      <td>0</td>\n",
       "      <td>0</td>\n",
       "      <td>0</td>\n",
       "      <td>0</td>\n",
       "      <td>0</td>\n",
       "      <td>0</td>\n",
       "      <td>0</td>\n",
       "      <td>0</td>\n",
       "      <td>44610</td>\n",
       "      <td>California</td>\n",
       "      <td>2019-04-28</td>\n",
       "    </tr>\n",
       "    <tr>\n",
       "      <th>1</th>\n",
       "      <td>0</td>\n",
       "      <td>0</td>\n",
       "      <td>0</td>\n",
       "      <td>0</td>\n",
       "      <td>0</td>\n",
       "      <td>0</td>\n",
       "      <td>0</td>\n",
       "      <td>0</td>\n",
       "      <td>0</td>\n",
       "      <td>0</td>\n",
       "      <td>0</td>\n",
       "      <td>0</td>\n",
       "      <td>0</td>\n",
       "      <td>0</td>\n",
       "      <td>0</td>\n",
       "      <td>0</td>\n",
       "      <td>1</td>\n",
       "      <td>1</td>\n",
       "      <td>0</td>\n",
       "      <td>0</td>\n",
       "      <td>0</td>\n",
       "      <td>0</td>\n",
       "      <td>0</td>\n",
       "      <td>0</td>\n",
       "      <td>0</td>\n",
       "      <td>0</td>\n",
       "      <td>0</td>\n",
       "      <td>0</td>\n",
       "      <td>0</td>\n",
       "      <td>0</td>\n",
       "      <td>0</td>\n",
       "      <td>0</td>\n",
       "      <td>0</td>\n",
       "      <td>0</td>\n",
       "      <td>0</td>\n",
       "      <td>0</td>\n",
       "      <td>0</td>\n",
       "      <td>0</td>\n",
       "      <td>0</td>\n",
       "      <td>0</td>\n",
       "      <td>0</td>\n",
       "      <td>0</td>\n",
       "      <td>0</td>\n",
       "      <td>0</td>\n",
       "      <td>0</td>\n",
       "      <td>0</td>\n",
       "      <td>0</td>\n",
       "      <td>0</td>\n",
       "      <td>0</td>\n",
       "      <td>0</td>\n",
       "      <td>1</td>\n",
       "      <td>0</td>\n",
       "      <td>0</td>\n",
       "      <td>0</td>\n",
       "      <td>0</td>\n",
       "      <td>0</td>\n",
       "      <td>0</td>\n",
       "      <td>0</td>\n",
       "      <td>0</td>\n",
       "      <td>0</td>\n",
       "      <td>0</td>\n",
       "      <td>0</td>\n",
       "      <td>0</td>\n",
       "      <td>0</td>\n",
       "      <td>0</td>\n",
       "      <td>0</td>\n",
       "      <td>0</td>\n",
       "      <td>0</td>\n",
       "      <td>0</td>\n",
       "      <td>0</td>\n",
       "      <td>0</td>\n",
       "      <td>0</td>\n",
       "      <td>0</td>\n",
       "      <td>41505</td>\n",
       "      <td>California</td>\n",
       "      <td>2019-03-14</td>\n",
       "    </tr>\n",
       "    <tr>\n",
       "      <th>2</th>\n",
       "      <td>0</td>\n",
       "      <td>0</td>\n",
       "      <td>0</td>\n",
       "      <td>0</td>\n",
       "      <td>0</td>\n",
       "      <td>0</td>\n",
       "      <td>0</td>\n",
       "      <td>0</td>\n",
       "      <td>0</td>\n",
       "      <td>0</td>\n",
       "      <td>0</td>\n",
       "      <td>0</td>\n",
       "      <td>1</td>\n",
       "      <td>0</td>\n",
       "      <td>0</td>\n",
       "      <td>0</td>\n",
       "      <td>0</td>\n",
       "      <td>0</td>\n",
       "      <td>0</td>\n",
       "      <td>0</td>\n",
       "      <td>0</td>\n",
       "      <td>0</td>\n",
       "      <td>0</td>\n",
       "      <td>0</td>\n",
       "      <td>0</td>\n",
       "      <td>0</td>\n",
       "      <td>0</td>\n",
       "      <td>0</td>\n",
       "      <td>0</td>\n",
       "      <td>0</td>\n",
       "      <td>0</td>\n",
       "      <td>0</td>\n",
       "      <td>0</td>\n",
       "      <td>1</td>\n",
       "      <td>0</td>\n",
       "      <td>0</td>\n",
       "      <td>0</td>\n",
       "      <td>0</td>\n",
       "      <td>0</td>\n",
       "      <td>0</td>\n",
       "      <td>0</td>\n",
       "      <td>0</td>\n",
       "      <td>0</td>\n",
       "      <td>0</td>\n",
       "      <td>0</td>\n",
       "      <td>0</td>\n",
       "      <td>0</td>\n",
       "      <td>0</td>\n",
       "      <td>0</td>\n",
       "      <td>1</td>\n",
       "      <td>0</td>\n",
       "      <td>0</td>\n",
       "      <td>0</td>\n",
       "      <td>0</td>\n",
       "      <td>0</td>\n",
       "      <td>0</td>\n",
       "      <td>0</td>\n",
       "      <td>0</td>\n",
       "      <td>0</td>\n",
       "      <td>0</td>\n",
       "      <td>0</td>\n",
       "      <td>0</td>\n",
       "      <td>0</td>\n",
       "      <td>0</td>\n",
       "      <td>0</td>\n",
       "      <td>0</td>\n",
       "      <td>0</td>\n",
       "      <td>0</td>\n",
       "      <td>0</td>\n",
       "      <td>0</td>\n",
       "      <td>0</td>\n",
       "      <td>0</td>\n",
       "      <td>0</td>\n",
       "      <td>58890</td>\n",
       "      <td>California</td>\n",
       "      <td>2019-06-12</td>\n",
       "    </tr>\n",
       "    <tr>\n",
       "      <th>3</th>\n",
       "      <td>0</td>\n",
       "      <td>0</td>\n",
       "      <td>0</td>\n",
       "      <td>0</td>\n",
       "      <td>0</td>\n",
       "      <td>0</td>\n",
       "      <td>0</td>\n",
       "      <td>0</td>\n",
       "      <td>0</td>\n",
       "      <td>0</td>\n",
       "      <td>0</td>\n",
       "      <td>0</td>\n",
       "      <td>1</td>\n",
       "      <td>0</td>\n",
       "      <td>0</td>\n",
       "      <td>0</td>\n",
       "      <td>0</td>\n",
       "      <td>0</td>\n",
       "      <td>0</td>\n",
       "      <td>0</td>\n",
       "      <td>0</td>\n",
       "      <td>0</td>\n",
       "      <td>0</td>\n",
       "      <td>0</td>\n",
       "      <td>0</td>\n",
       "      <td>0</td>\n",
       "      <td>0</td>\n",
       "      <td>0</td>\n",
       "      <td>0</td>\n",
       "      <td>0</td>\n",
       "      <td>0</td>\n",
       "      <td>0</td>\n",
       "      <td>0</td>\n",
       "      <td>0</td>\n",
       "      <td>0</td>\n",
       "      <td>0</td>\n",
       "      <td>0</td>\n",
       "      <td>0</td>\n",
       "      <td>0</td>\n",
       "      <td>0</td>\n",
       "      <td>0</td>\n",
       "      <td>0</td>\n",
       "      <td>0</td>\n",
       "      <td>0</td>\n",
       "      <td>0</td>\n",
       "      <td>0</td>\n",
       "      <td>0</td>\n",
       "      <td>0</td>\n",
       "      <td>0</td>\n",
       "      <td>0</td>\n",
       "      <td>1</td>\n",
       "      <td>0</td>\n",
       "      <td>0</td>\n",
       "      <td>0</td>\n",
       "      <td>0</td>\n",
       "      <td>0</td>\n",
       "      <td>0</td>\n",
       "      <td>0</td>\n",
       "      <td>0</td>\n",
       "      <td>0</td>\n",
       "      <td>0</td>\n",
       "      <td>0</td>\n",
       "      <td>0</td>\n",
       "      <td>0</td>\n",
       "      <td>0</td>\n",
       "      <td>0</td>\n",
       "      <td>0</td>\n",
       "      <td>0</td>\n",
       "      <td>0</td>\n",
       "      <td>0</td>\n",
       "      <td>0</td>\n",
       "      <td>0</td>\n",
       "      <td>0</td>\n",
       "      <td>51055</td>\n",
       "      <td>California</td>\n",
       "      <td>2019-03-04</td>\n",
       "    </tr>\n",
       "    <tr>\n",
       "      <th>4</th>\n",
       "      <td>0</td>\n",
       "      <td>0</td>\n",
       "      <td>0</td>\n",
       "      <td>0</td>\n",
       "      <td>0</td>\n",
       "      <td>0</td>\n",
       "      <td>0</td>\n",
       "      <td>0</td>\n",
       "      <td>0</td>\n",
       "      <td>0</td>\n",
       "      <td>0</td>\n",
       "      <td>0</td>\n",
       "      <td>0</td>\n",
       "      <td>1</td>\n",
       "      <td>0</td>\n",
       "      <td>0</td>\n",
       "      <td>0</td>\n",
       "      <td>0</td>\n",
       "      <td>0</td>\n",
       "      <td>0</td>\n",
       "      <td>0</td>\n",
       "      <td>0</td>\n",
       "      <td>0</td>\n",
       "      <td>0</td>\n",
       "      <td>0</td>\n",
       "      <td>0</td>\n",
       "      <td>0</td>\n",
       "      <td>0</td>\n",
       "      <td>0</td>\n",
       "      <td>0</td>\n",
       "      <td>0</td>\n",
       "      <td>0</td>\n",
       "      <td>0</td>\n",
       "      <td>1</td>\n",
       "      <td>0</td>\n",
       "      <td>0</td>\n",
       "      <td>0</td>\n",
       "      <td>0</td>\n",
       "      <td>0</td>\n",
       "      <td>0</td>\n",
       "      <td>0</td>\n",
       "      <td>0</td>\n",
       "      <td>0</td>\n",
       "      <td>0</td>\n",
       "      <td>0</td>\n",
       "      <td>0</td>\n",
       "      <td>0</td>\n",
       "      <td>0</td>\n",
       "      <td>0</td>\n",
       "      <td>0</td>\n",
       "      <td>0</td>\n",
       "      <td>0</td>\n",
       "      <td>0</td>\n",
       "      <td>1</td>\n",
       "      <td>0</td>\n",
       "      <td>0</td>\n",
       "      <td>0</td>\n",
       "      <td>0</td>\n",
       "      <td>0</td>\n",
       "      <td>0</td>\n",
       "      <td>0</td>\n",
       "      <td>0</td>\n",
       "      <td>0</td>\n",
       "      <td>0</td>\n",
       "      <td>0</td>\n",
       "      <td>0</td>\n",
       "      <td>0</td>\n",
       "      <td>0</td>\n",
       "      <td>0</td>\n",
       "      <td>0</td>\n",
       "      <td>0</td>\n",
       "      <td>0</td>\n",
       "      <td>0</td>\n",
       "      <td>70830</td>\n",
       "      <td>California</td>\n",
       "      <td>2019-01-23</td>\n",
       "    </tr>\n",
       "  </tbody>\n",
       "</table>\n",
       "</div>"
      ],
      "text/plain": [
       "   main_S60_1  main_S60_2  main_type_SP100D  ...   MSRP  dealer_state        date\n",
       "0           0           0                 0  ...  44610    California  2019-04-28\n",
       "1           0           0                 0  ...  41505    California  2019-03-14\n",
       "2           0           0                 0  ...  58890    California  2019-06-12\n",
       "3           0           0                 0  ...  51055    California  2019-03-04\n",
       "4           0           0                 0  ...  70830    California  2019-01-23\n",
       "\n",
       "[5 rows x 76 columns]"
      ]
     },
     "execution_count": 6,
     "metadata": {
      "tags": []
     },
     "output_type": "execute_result"
    }
   ],
   "source": [
    "df_sales = pd.read_csv(\"sales_Q12_2019.csv\")\n",
    "print(df_sales.shape)\n",
    "df_sales.head()"
   ]
  },
  {
   "cell_type": "markdown",
   "metadata": {
    "id": "dF7w0UQndnM_"
   },
   "source": [
    "### Begin cleaning the data\n",
    "\n",
    "Eliminate the `'dealer_state'` and `'date'` columns. The former is useless to our model, since we already know that our dataset is restricted to California sales. While we could possibly extract useful information from the `'date'` column (for example, to determine whether more cars are sold on weekends than weekdays), we'll be focusing on car configurations in this exercise."
   ]
  },
  {
   "cell_type": "code",
   "execution_count": null,
   "metadata": {
    "colab": {
     "base_uri": "https://localhost:8080/",
     "height": 217
    },
    "id": "i-DThsrHdnNA",
    "outputId": "c068f475-10fe-4302-bff9-e0127152e721"
   },
   "outputs": [
    {
     "data": {
      "text/html": [
       "<div>\n",
       "<style scoped>\n",
       "    .dataframe tbody tr th:only-of-type {\n",
       "        vertical-align: middle;\n",
       "    }\n",
       "\n",
       "    .dataframe tbody tr th {\n",
       "        vertical-align: top;\n",
       "    }\n",
       "\n",
       "    .dataframe thead th {\n",
       "        text-align: right;\n",
       "    }\n",
       "</style>\n",
       "<table border=\"1\" class=\"dataframe\">\n",
       "  <thead>\n",
       "    <tr style=\"text-align: right;\">\n",
       "      <th></th>\n",
       "      <th>main_S60_1</th>\n",
       "      <th>main_S60_2</th>\n",
       "      <th>main_type_SP100D</th>\n",
       "      <th>main_type_S60D_1</th>\n",
       "      <th>main_type_S60D_2</th>\n",
       "      <th>main_type_S70</th>\n",
       "      <th>main_type_S70D</th>\n",
       "      <th>main_type_S75</th>\n",
       "      <th>main_type_S75D</th>\n",
       "      <th>main_type_S80</th>\n",
       "      <th>main_type_S80D</th>\n",
       "      <th>main_type_S85</th>\n",
       "      <th>main_type_S85P</th>\n",
       "      <th>main_type_P85D</th>\n",
       "      <th>main_type_S90</th>\n",
       "      <th>main_type_S90D</th>\n",
       "      <th>main_type_S100D</th>\n",
       "      <th>engine_A</th>\n",
       "      <th>engine_B</th>\n",
       "      <th>engine_C</th>\n",
       "      <th>engine_D</th>\n",
       "      <th>engine_E</th>\n",
       "      <th>engine_F</th>\n",
       "      <th>engine_G</th>\n",
       "      <th>engine_H</th>\n",
       "      <th>engine_I</th>\n",
       "      <th>engine_J</th>\n",
       "      <th>engine_K</th>\n",
       "      <th>engine_L</th>\n",
       "      <th>engine_M</th>\n",
       "      <th>engine_N</th>\n",
       "      <th>engine_O</th>\n",
       "      <th>engine_P</th>\n",
       "      <th>engine_Q</th>\n",
       "      <th>engine_R</th>\n",
       "      <th>engine_S</th>\n",
       "      <th>engine_T</th>\n",
       "      <th>engine_U</th>\n",
       "      <th>engine_V</th>\n",
       "      <th>engine_W</th>\n",
       "      <th>engine_X</th>\n",
       "      <th>engine_Y</th>\n",
       "      <th>engine_Z</th>\n",
       "      <th>sales_1</th>\n",
       "      <th>sales_2</th>\n",
       "      <th>sales_3</th>\n",
       "      <th>sales_4</th>\n",
       "      <th>sales_5</th>\n",
       "      <th>sales_6</th>\n",
       "      <th>sales_7</th>\n",
       "      <th>sales_8</th>\n",
       "      <th>sales_9</th>\n",
       "      <th>sales_10</th>\n",
       "      <th>sales_11</th>\n",
       "      <th>sales_12</th>\n",
       "      <th>sales_13</th>\n",
       "      <th>sales_14</th>\n",
       "      <th>sales_15</th>\n",
       "      <th>sales_16</th>\n",
       "      <th>sales_17</th>\n",
       "      <th>sales_18</th>\n",
       "      <th>sales_19</th>\n",
       "      <th>sales_20</th>\n",
       "      <th>sales_21</th>\n",
       "      <th>sales_22</th>\n",
       "      <th>sales_23</th>\n",
       "      <th>sales_24</th>\n",
       "      <th>sales_25</th>\n",
       "      <th>sales_26</th>\n",
       "      <th>sales_27</th>\n",
       "      <th>sales_28</th>\n",
       "      <th>sales_29</th>\n",
       "      <th>sales_30</th>\n",
       "      <th>MSRP</th>\n",
       "    </tr>\n",
       "  </thead>\n",
       "  <tbody>\n",
       "    <tr>\n",
       "      <th>0</th>\n",
       "      <td>0</td>\n",
       "      <td>0</td>\n",
       "      <td>0</td>\n",
       "      <td>0</td>\n",
       "      <td>0</td>\n",
       "      <td>1</td>\n",
       "      <td>0</td>\n",
       "      <td>0</td>\n",
       "      <td>0</td>\n",
       "      <td>0</td>\n",
       "      <td>0</td>\n",
       "      <td>0</td>\n",
       "      <td>0</td>\n",
       "      <td>0</td>\n",
       "      <td>0</td>\n",
       "      <td>0</td>\n",
       "      <td>0</td>\n",
       "      <td>0</td>\n",
       "      <td>0</td>\n",
       "      <td>0</td>\n",
       "      <td>0</td>\n",
       "      <td>0</td>\n",
       "      <td>0</td>\n",
       "      <td>0</td>\n",
       "      <td>0</td>\n",
       "      <td>0</td>\n",
       "      <td>0</td>\n",
       "      <td>0</td>\n",
       "      <td>0</td>\n",
       "      <td>0</td>\n",
       "      <td>0</td>\n",
       "      <td>0</td>\n",
       "      <td>0</td>\n",
       "      <td>0</td>\n",
       "      <td>0</td>\n",
       "      <td>0</td>\n",
       "      <td>0</td>\n",
       "      <td>0</td>\n",
       "      <td>0</td>\n",
       "      <td>0</td>\n",
       "      <td>0</td>\n",
       "      <td>0</td>\n",
       "      <td>0</td>\n",
       "      <td>0</td>\n",
       "      <td>0</td>\n",
       "      <td>0</td>\n",
       "      <td>0</td>\n",
       "      <td>0</td>\n",
       "      <td>0</td>\n",
       "      <td>0</td>\n",
       "      <td>1</td>\n",
       "      <td>0</td>\n",
       "      <td>0</td>\n",
       "      <td>0</td>\n",
       "      <td>0</td>\n",
       "      <td>0</td>\n",
       "      <td>0</td>\n",
       "      <td>0</td>\n",
       "      <td>0</td>\n",
       "      <td>0</td>\n",
       "      <td>0</td>\n",
       "      <td>0</td>\n",
       "      <td>0</td>\n",
       "      <td>0</td>\n",
       "      <td>0</td>\n",
       "      <td>0</td>\n",
       "      <td>0</td>\n",
       "      <td>0</td>\n",
       "      <td>0</td>\n",
       "      <td>0</td>\n",
       "      <td>0</td>\n",
       "      <td>0</td>\n",
       "      <td>0</td>\n",
       "      <td>44610</td>\n",
       "    </tr>\n",
       "    <tr>\n",
       "      <th>1</th>\n",
       "      <td>0</td>\n",
       "      <td>0</td>\n",
       "      <td>0</td>\n",
       "      <td>0</td>\n",
       "      <td>0</td>\n",
       "      <td>0</td>\n",
       "      <td>0</td>\n",
       "      <td>0</td>\n",
       "      <td>0</td>\n",
       "      <td>0</td>\n",
       "      <td>0</td>\n",
       "      <td>0</td>\n",
       "      <td>0</td>\n",
       "      <td>0</td>\n",
       "      <td>0</td>\n",
       "      <td>0</td>\n",
       "      <td>1</td>\n",
       "      <td>1</td>\n",
       "      <td>0</td>\n",
       "      <td>0</td>\n",
       "      <td>0</td>\n",
       "      <td>0</td>\n",
       "      <td>0</td>\n",
       "      <td>0</td>\n",
       "      <td>0</td>\n",
       "      <td>0</td>\n",
       "      <td>0</td>\n",
       "      <td>0</td>\n",
       "      <td>0</td>\n",
       "      <td>0</td>\n",
       "      <td>0</td>\n",
       "      <td>0</td>\n",
       "      <td>0</td>\n",
       "      <td>0</td>\n",
       "      <td>0</td>\n",
       "      <td>0</td>\n",
       "      <td>0</td>\n",
       "      <td>0</td>\n",
       "      <td>0</td>\n",
       "      <td>0</td>\n",
       "      <td>0</td>\n",
       "      <td>0</td>\n",
       "      <td>0</td>\n",
       "      <td>0</td>\n",
       "      <td>0</td>\n",
       "      <td>0</td>\n",
       "      <td>0</td>\n",
       "      <td>0</td>\n",
       "      <td>0</td>\n",
       "      <td>0</td>\n",
       "      <td>1</td>\n",
       "      <td>0</td>\n",
       "      <td>0</td>\n",
       "      <td>0</td>\n",
       "      <td>0</td>\n",
       "      <td>0</td>\n",
       "      <td>0</td>\n",
       "      <td>0</td>\n",
       "      <td>0</td>\n",
       "      <td>0</td>\n",
       "      <td>0</td>\n",
       "      <td>0</td>\n",
       "      <td>0</td>\n",
       "      <td>0</td>\n",
       "      <td>0</td>\n",
       "      <td>0</td>\n",
       "      <td>0</td>\n",
       "      <td>0</td>\n",
       "      <td>0</td>\n",
       "      <td>0</td>\n",
       "      <td>0</td>\n",
       "      <td>0</td>\n",
       "      <td>0</td>\n",
       "      <td>41505</td>\n",
       "    </tr>\n",
       "    <tr>\n",
       "      <th>2</th>\n",
       "      <td>0</td>\n",
       "      <td>0</td>\n",
       "      <td>0</td>\n",
       "      <td>0</td>\n",
       "      <td>0</td>\n",
       "      <td>0</td>\n",
       "      <td>0</td>\n",
       "      <td>0</td>\n",
       "      <td>0</td>\n",
       "      <td>0</td>\n",
       "      <td>0</td>\n",
       "      <td>0</td>\n",
       "      <td>1</td>\n",
       "      <td>0</td>\n",
       "      <td>0</td>\n",
       "      <td>0</td>\n",
       "      <td>0</td>\n",
       "      <td>0</td>\n",
       "      <td>0</td>\n",
       "      <td>0</td>\n",
       "      <td>0</td>\n",
       "      <td>0</td>\n",
       "      <td>0</td>\n",
       "      <td>0</td>\n",
       "      <td>0</td>\n",
       "      <td>0</td>\n",
       "      <td>0</td>\n",
       "      <td>0</td>\n",
       "      <td>0</td>\n",
       "      <td>0</td>\n",
       "      <td>0</td>\n",
       "      <td>0</td>\n",
       "      <td>0</td>\n",
       "      <td>1</td>\n",
       "      <td>0</td>\n",
       "      <td>0</td>\n",
       "      <td>0</td>\n",
       "      <td>0</td>\n",
       "      <td>0</td>\n",
       "      <td>0</td>\n",
       "      <td>0</td>\n",
       "      <td>0</td>\n",
       "      <td>0</td>\n",
       "      <td>0</td>\n",
       "      <td>0</td>\n",
       "      <td>0</td>\n",
       "      <td>0</td>\n",
       "      <td>0</td>\n",
       "      <td>0</td>\n",
       "      <td>1</td>\n",
       "      <td>0</td>\n",
       "      <td>0</td>\n",
       "      <td>0</td>\n",
       "      <td>0</td>\n",
       "      <td>0</td>\n",
       "      <td>0</td>\n",
       "      <td>0</td>\n",
       "      <td>0</td>\n",
       "      <td>0</td>\n",
       "      <td>0</td>\n",
       "      <td>0</td>\n",
       "      <td>0</td>\n",
       "      <td>0</td>\n",
       "      <td>0</td>\n",
       "      <td>0</td>\n",
       "      <td>0</td>\n",
       "      <td>0</td>\n",
       "      <td>0</td>\n",
       "      <td>0</td>\n",
       "      <td>0</td>\n",
       "      <td>0</td>\n",
       "      <td>0</td>\n",
       "      <td>0</td>\n",
       "      <td>58890</td>\n",
       "    </tr>\n",
       "    <tr>\n",
       "      <th>3</th>\n",
       "      <td>0</td>\n",
       "      <td>0</td>\n",
       "      <td>0</td>\n",
       "      <td>0</td>\n",
       "      <td>0</td>\n",
       "      <td>0</td>\n",
       "      <td>0</td>\n",
       "      <td>0</td>\n",
       "      <td>0</td>\n",
       "      <td>0</td>\n",
       "      <td>0</td>\n",
       "      <td>0</td>\n",
       "      <td>1</td>\n",
       "      <td>0</td>\n",
       "      <td>0</td>\n",
       "      <td>0</td>\n",
       "      <td>0</td>\n",
       "      <td>0</td>\n",
       "      <td>0</td>\n",
       "      <td>0</td>\n",
       "      <td>0</td>\n",
       "      <td>0</td>\n",
       "      <td>0</td>\n",
       "      <td>0</td>\n",
       "      <td>0</td>\n",
       "      <td>0</td>\n",
       "      <td>0</td>\n",
       "      <td>0</td>\n",
       "      <td>0</td>\n",
       "      <td>0</td>\n",
       "      <td>0</td>\n",
       "      <td>0</td>\n",
       "      <td>0</td>\n",
       "      <td>0</td>\n",
       "      <td>0</td>\n",
       "      <td>0</td>\n",
       "      <td>0</td>\n",
       "      <td>0</td>\n",
       "      <td>0</td>\n",
       "      <td>0</td>\n",
       "      <td>0</td>\n",
       "      <td>0</td>\n",
       "      <td>0</td>\n",
       "      <td>0</td>\n",
       "      <td>0</td>\n",
       "      <td>0</td>\n",
       "      <td>0</td>\n",
       "      <td>0</td>\n",
       "      <td>0</td>\n",
       "      <td>0</td>\n",
       "      <td>1</td>\n",
       "      <td>0</td>\n",
       "      <td>0</td>\n",
       "      <td>0</td>\n",
       "      <td>0</td>\n",
       "      <td>0</td>\n",
       "      <td>0</td>\n",
       "      <td>0</td>\n",
       "      <td>0</td>\n",
       "      <td>0</td>\n",
       "      <td>0</td>\n",
       "      <td>0</td>\n",
       "      <td>0</td>\n",
       "      <td>0</td>\n",
       "      <td>0</td>\n",
       "      <td>0</td>\n",
       "      <td>0</td>\n",
       "      <td>0</td>\n",
       "      <td>0</td>\n",
       "      <td>0</td>\n",
       "      <td>0</td>\n",
       "      <td>0</td>\n",
       "      <td>0</td>\n",
       "      <td>51055</td>\n",
       "    </tr>\n",
       "    <tr>\n",
       "      <th>4</th>\n",
       "      <td>0</td>\n",
       "      <td>0</td>\n",
       "      <td>0</td>\n",
       "      <td>0</td>\n",
       "      <td>0</td>\n",
       "      <td>0</td>\n",
       "      <td>0</td>\n",
       "      <td>0</td>\n",
       "      <td>0</td>\n",
       "      <td>0</td>\n",
       "      <td>0</td>\n",
       "      <td>0</td>\n",
       "      <td>0</td>\n",
       "      <td>1</td>\n",
       "      <td>0</td>\n",
       "      <td>0</td>\n",
       "      <td>0</td>\n",
       "      <td>0</td>\n",
       "      <td>0</td>\n",
       "      <td>0</td>\n",
       "      <td>0</td>\n",
       "      <td>0</td>\n",
       "      <td>0</td>\n",
       "      <td>0</td>\n",
       "      <td>0</td>\n",
       "      <td>0</td>\n",
       "      <td>0</td>\n",
       "      <td>0</td>\n",
       "      <td>0</td>\n",
       "      <td>0</td>\n",
       "      <td>0</td>\n",
       "      <td>0</td>\n",
       "      <td>0</td>\n",
       "      <td>1</td>\n",
       "      <td>0</td>\n",
       "      <td>0</td>\n",
       "      <td>0</td>\n",
       "      <td>0</td>\n",
       "      <td>0</td>\n",
       "      <td>0</td>\n",
       "      <td>0</td>\n",
       "      <td>0</td>\n",
       "      <td>0</td>\n",
       "      <td>0</td>\n",
       "      <td>0</td>\n",
       "      <td>0</td>\n",
       "      <td>0</td>\n",
       "      <td>0</td>\n",
       "      <td>0</td>\n",
       "      <td>0</td>\n",
       "      <td>0</td>\n",
       "      <td>0</td>\n",
       "      <td>0</td>\n",
       "      <td>1</td>\n",
       "      <td>0</td>\n",
       "      <td>0</td>\n",
       "      <td>0</td>\n",
       "      <td>0</td>\n",
       "      <td>0</td>\n",
       "      <td>0</td>\n",
       "      <td>0</td>\n",
       "      <td>0</td>\n",
       "      <td>0</td>\n",
       "      <td>0</td>\n",
       "      <td>0</td>\n",
       "      <td>0</td>\n",
       "      <td>0</td>\n",
       "      <td>0</td>\n",
       "      <td>0</td>\n",
       "      <td>0</td>\n",
       "      <td>0</td>\n",
       "      <td>0</td>\n",
       "      <td>0</td>\n",
       "      <td>70830</td>\n",
       "    </tr>\n",
       "  </tbody>\n",
       "</table>\n",
       "</div>"
      ],
      "text/plain": [
       "   main_S60_1  main_S60_2  main_type_SP100D  ...  sales_29  sales_30   MSRP\n",
       "0           0           0                 0  ...         0         0  44610\n",
       "1           0           0                 0  ...         0         0  41505\n",
       "2           0           0                 0  ...         0         0  58890\n",
       "3           0           0                 0  ...         0         0  51055\n",
       "4           0           0                 0  ...         0         0  70830\n",
       "\n",
       "[5 rows x 74 columns]"
      ]
     },
     "execution_count": 7,
     "metadata": {
      "tags": []
     },
     "output_type": "execute_result"
    }
   ],
   "source": [
    "df_sales = df_sales.drop(columns=['dealer_state','date'])\n",
    "df_sales.head()"
   ]
  },
  {
   "cell_type": "markdown",
   "metadata": {
    "id": "qqdkmnCodnNC"
   },
   "source": [
    "### Read in the CSV file containing the California sales data for Quarters 3 and 4\n",
    "\n",
    "The `'dealer_state'` and `'date'` columns have already been eliminated in this dataset, so you don't need to worry about them here. Examine the data's shape and first few rows."
   ]
  },
  {
   "cell_type": "code",
   "execution_count": null,
   "metadata": {
    "colab": {
     "base_uri": "https://localhost:8080/",
     "height": 235
    },
    "id": "bJpTgHxAdnND",
    "outputId": "bef39aa0-aaf6-48a8-fc86-5969f245411b"
   },
   "outputs": [
    {
     "name": "stdout",
     "output_type": "stream",
     "text": [
      "(6666, 74)\n"
     ]
    },
    {
     "data": {
      "text/html": [
       "<div>\n",
       "<style scoped>\n",
       "    .dataframe tbody tr th:only-of-type {\n",
       "        vertical-align: middle;\n",
       "    }\n",
       "\n",
       "    .dataframe tbody tr th {\n",
       "        vertical-align: top;\n",
       "    }\n",
       "\n",
       "    .dataframe thead th {\n",
       "        text-align: right;\n",
       "    }\n",
       "</style>\n",
       "<table border=\"1\" class=\"dataframe\">\n",
       "  <thead>\n",
       "    <tr style=\"text-align: right;\">\n",
       "      <th></th>\n",
       "      <th>main_S60_1</th>\n",
       "      <th>main_S60_2</th>\n",
       "      <th>main_type_SP100D</th>\n",
       "      <th>main_type_S60D_1</th>\n",
       "      <th>main_type_S60D_2</th>\n",
       "      <th>main_type_S70</th>\n",
       "      <th>main_type_S70D</th>\n",
       "      <th>main_type_S75</th>\n",
       "      <th>main_type_S75D</th>\n",
       "      <th>main_type_S80</th>\n",
       "      <th>main_type_S80D</th>\n",
       "      <th>main_type_S85</th>\n",
       "      <th>main_type_S85P</th>\n",
       "      <th>main_type_P85D</th>\n",
       "      <th>main_type_S90</th>\n",
       "      <th>main_type_S90D</th>\n",
       "      <th>main_type_S100D</th>\n",
       "      <th>engine_A</th>\n",
       "      <th>engine_B</th>\n",
       "      <th>engine_C</th>\n",
       "      <th>engine_D</th>\n",
       "      <th>engine_E</th>\n",
       "      <th>engine_F</th>\n",
       "      <th>engine_G</th>\n",
       "      <th>engine_H</th>\n",
       "      <th>engine_I</th>\n",
       "      <th>engine_J</th>\n",
       "      <th>engine_K</th>\n",
       "      <th>engine_L</th>\n",
       "      <th>engine_M</th>\n",
       "      <th>engine_N</th>\n",
       "      <th>engine_O</th>\n",
       "      <th>engine_P</th>\n",
       "      <th>engine_Q</th>\n",
       "      <th>engine_R</th>\n",
       "      <th>engine_S</th>\n",
       "      <th>engine_T</th>\n",
       "      <th>engine_U</th>\n",
       "      <th>engine_V</th>\n",
       "      <th>engine_W</th>\n",
       "      <th>engine_X</th>\n",
       "      <th>engine_Y</th>\n",
       "      <th>engine_Z</th>\n",
       "      <th>sales_1</th>\n",
       "      <th>sales_2</th>\n",
       "      <th>sales_3</th>\n",
       "      <th>sales_4</th>\n",
       "      <th>sales_5</th>\n",
       "      <th>sales_6</th>\n",
       "      <th>sales_7</th>\n",
       "      <th>sales_8</th>\n",
       "      <th>sales_9</th>\n",
       "      <th>sales_10</th>\n",
       "      <th>sales_11</th>\n",
       "      <th>sales_12</th>\n",
       "      <th>sales_13</th>\n",
       "      <th>sales_14</th>\n",
       "      <th>sales_15</th>\n",
       "      <th>sales_16</th>\n",
       "      <th>sales_17</th>\n",
       "      <th>sales_18</th>\n",
       "      <th>sales_19</th>\n",
       "      <th>sales_20</th>\n",
       "      <th>sales_21</th>\n",
       "      <th>sales_22</th>\n",
       "      <th>sales_23</th>\n",
       "      <th>sales_24</th>\n",
       "      <th>sales_25</th>\n",
       "      <th>sales_26</th>\n",
       "      <th>sales_27</th>\n",
       "      <th>sales_28</th>\n",
       "      <th>sales_29</th>\n",
       "      <th>sales_30</th>\n",
       "      <th>MSRP</th>\n",
       "    </tr>\n",
       "  </thead>\n",
       "  <tbody>\n",
       "    <tr>\n",
       "      <th>0</th>\n",
       "      <td>0</td>\n",
       "      <td>0</td>\n",
       "      <td>0</td>\n",
       "      <td>0</td>\n",
       "      <td>0</td>\n",
       "      <td>1</td>\n",
       "      <td>0</td>\n",
       "      <td>0</td>\n",
       "      <td>0</td>\n",
       "      <td>0</td>\n",
       "      <td>0</td>\n",
       "      <td>0</td>\n",
       "      <td>0</td>\n",
       "      <td>0</td>\n",
       "      <td>0</td>\n",
       "      <td>0</td>\n",
       "      <td>0</td>\n",
       "      <td>0</td>\n",
       "      <td>0</td>\n",
       "      <td>0</td>\n",
       "      <td>0</td>\n",
       "      <td>0</td>\n",
       "      <td>0</td>\n",
       "      <td>0</td>\n",
       "      <td>0</td>\n",
       "      <td>0</td>\n",
       "      <td>0</td>\n",
       "      <td>0</td>\n",
       "      <td>0</td>\n",
       "      <td>0</td>\n",
       "      <td>0</td>\n",
       "      <td>0</td>\n",
       "      <td>0</td>\n",
       "      <td>1</td>\n",
       "      <td>0</td>\n",
       "      <td>0</td>\n",
       "      <td>0</td>\n",
       "      <td>0</td>\n",
       "      <td>0</td>\n",
       "      <td>0</td>\n",
       "      <td>0</td>\n",
       "      <td>0</td>\n",
       "      <td>0</td>\n",
       "      <td>0</td>\n",
       "      <td>0</td>\n",
       "      <td>0</td>\n",
       "      <td>0</td>\n",
       "      <td>0</td>\n",
       "      <td>0</td>\n",
       "      <td>0</td>\n",
       "      <td>0</td>\n",
       "      <td>0</td>\n",
       "      <td>0</td>\n",
       "      <td>0</td>\n",
       "      <td>0</td>\n",
       "      <td>0</td>\n",
       "      <td>0</td>\n",
       "      <td>0</td>\n",
       "      <td>0</td>\n",
       "      <td>0</td>\n",
       "      <td>0</td>\n",
       "      <td>0</td>\n",
       "      <td>0</td>\n",
       "      <td>0</td>\n",
       "      <td>0</td>\n",
       "      <td>0</td>\n",
       "      <td>1</td>\n",
       "      <td>0</td>\n",
       "      <td>0</td>\n",
       "      <td>0</td>\n",
       "      <td>0</td>\n",
       "      <td>0</td>\n",
       "      <td>0</td>\n",
       "      <td>51355</td>\n",
       "    </tr>\n",
       "    <tr>\n",
       "      <th>1</th>\n",
       "      <td>0</td>\n",
       "      <td>0</td>\n",
       "      <td>0</td>\n",
       "      <td>0</td>\n",
       "      <td>0</td>\n",
       "      <td>0</td>\n",
       "      <td>0</td>\n",
       "      <td>0</td>\n",
       "      <td>0</td>\n",
       "      <td>0</td>\n",
       "      <td>0</td>\n",
       "      <td>0</td>\n",
       "      <td>0</td>\n",
       "      <td>1</td>\n",
       "      <td>0</td>\n",
       "      <td>0</td>\n",
       "      <td>0</td>\n",
       "      <td>0</td>\n",
       "      <td>0</td>\n",
       "      <td>0</td>\n",
       "      <td>0</td>\n",
       "      <td>0</td>\n",
       "      <td>0</td>\n",
       "      <td>0</td>\n",
       "      <td>0</td>\n",
       "      <td>0</td>\n",
       "      <td>0</td>\n",
       "      <td>0</td>\n",
       "      <td>0</td>\n",
       "      <td>0</td>\n",
       "      <td>0</td>\n",
       "      <td>0</td>\n",
       "      <td>0</td>\n",
       "      <td>1</td>\n",
       "      <td>0</td>\n",
       "      <td>0</td>\n",
       "      <td>0</td>\n",
       "      <td>0</td>\n",
       "      <td>0</td>\n",
       "      <td>0</td>\n",
       "      <td>0</td>\n",
       "      <td>0</td>\n",
       "      <td>0</td>\n",
       "      <td>0</td>\n",
       "      <td>0</td>\n",
       "      <td>0</td>\n",
       "      <td>0</td>\n",
       "      <td>0</td>\n",
       "      <td>0</td>\n",
       "      <td>0</td>\n",
       "      <td>0</td>\n",
       "      <td>0</td>\n",
       "      <td>0</td>\n",
       "      <td>1</td>\n",
       "      <td>0</td>\n",
       "      <td>0</td>\n",
       "      <td>0</td>\n",
       "      <td>0</td>\n",
       "      <td>0</td>\n",
       "      <td>0</td>\n",
       "      <td>0</td>\n",
       "      <td>0</td>\n",
       "      <td>0</td>\n",
       "      <td>0</td>\n",
       "      <td>0</td>\n",
       "      <td>0</td>\n",
       "      <td>0</td>\n",
       "      <td>0</td>\n",
       "      <td>0</td>\n",
       "      <td>0</td>\n",
       "      <td>0</td>\n",
       "      <td>0</td>\n",
       "      <td>0</td>\n",
       "      <td>71580</td>\n",
       "    </tr>\n",
       "    <tr>\n",
       "      <th>2</th>\n",
       "      <td>0</td>\n",
       "      <td>0</td>\n",
       "      <td>0</td>\n",
       "      <td>0</td>\n",
       "      <td>0</td>\n",
       "      <td>0</td>\n",
       "      <td>0</td>\n",
       "      <td>0</td>\n",
       "      <td>0</td>\n",
       "      <td>0</td>\n",
       "      <td>0</td>\n",
       "      <td>0</td>\n",
       "      <td>0</td>\n",
       "      <td>1</td>\n",
       "      <td>0</td>\n",
       "      <td>0</td>\n",
       "      <td>0</td>\n",
       "      <td>0</td>\n",
       "      <td>0</td>\n",
       "      <td>0</td>\n",
       "      <td>0</td>\n",
       "      <td>0</td>\n",
       "      <td>0</td>\n",
       "      <td>0</td>\n",
       "      <td>0</td>\n",
       "      <td>0</td>\n",
       "      <td>0</td>\n",
       "      <td>0</td>\n",
       "      <td>0</td>\n",
       "      <td>0</td>\n",
       "      <td>0</td>\n",
       "      <td>0</td>\n",
       "      <td>0</td>\n",
       "      <td>1</td>\n",
       "      <td>0</td>\n",
       "      <td>0</td>\n",
       "      <td>0</td>\n",
       "      <td>0</td>\n",
       "      <td>0</td>\n",
       "      <td>0</td>\n",
       "      <td>0</td>\n",
       "      <td>0</td>\n",
       "      <td>0</td>\n",
       "      <td>0</td>\n",
       "      <td>0</td>\n",
       "      <td>0</td>\n",
       "      <td>0</td>\n",
       "      <td>0</td>\n",
       "      <td>0</td>\n",
       "      <td>0</td>\n",
       "      <td>0</td>\n",
       "      <td>0</td>\n",
       "      <td>0</td>\n",
       "      <td>1</td>\n",
       "      <td>0</td>\n",
       "      <td>0</td>\n",
       "      <td>0</td>\n",
       "      <td>0</td>\n",
       "      <td>0</td>\n",
       "      <td>0</td>\n",
       "      <td>0</td>\n",
       "      <td>0</td>\n",
       "      <td>0</td>\n",
       "      <td>0</td>\n",
       "      <td>0</td>\n",
       "      <td>0</td>\n",
       "      <td>0</td>\n",
       "      <td>0</td>\n",
       "      <td>0</td>\n",
       "      <td>0</td>\n",
       "      <td>0</td>\n",
       "      <td>0</td>\n",
       "      <td>0</td>\n",
       "      <td>66790</td>\n",
       "    </tr>\n",
       "    <tr>\n",
       "      <th>3</th>\n",
       "      <td>0</td>\n",
       "      <td>0</td>\n",
       "      <td>0</td>\n",
       "      <td>0</td>\n",
       "      <td>0</td>\n",
       "      <td>0</td>\n",
       "      <td>0</td>\n",
       "      <td>0</td>\n",
       "      <td>0</td>\n",
       "      <td>0</td>\n",
       "      <td>0</td>\n",
       "      <td>0</td>\n",
       "      <td>0</td>\n",
       "      <td>1</td>\n",
       "      <td>0</td>\n",
       "      <td>0</td>\n",
       "      <td>0</td>\n",
       "      <td>0</td>\n",
       "      <td>0</td>\n",
       "      <td>0</td>\n",
       "      <td>0</td>\n",
       "      <td>0</td>\n",
       "      <td>0</td>\n",
       "      <td>0</td>\n",
       "      <td>0</td>\n",
       "      <td>0</td>\n",
       "      <td>0</td>\n",
       "      <td>0</td>\n",
       "      <td>0</td>\n",
       "      <td>0</td>\n",
       "      <td>0</td>\n",
       "      <td>0</td>\n",
       "      <td>0</td>\n",
       "      <td>1</td>\n",
       "      <td>0</td>\n",
       "      <td>0</td>\n",
       "      <td>0</td>\n",
       "      <td>0</td>\n",
       "      <td>0</td>\n",
       "      <td>0</td>\n",
       "      <td>0</td>\n",
       "      <td>0</td>\n",
       "      <td>0</td>\n",
       "      <td>0</td>\n",
       "      <td>0</td>\n",
       "      <td>0</td>\n",
       "      <td>0</td>\n",
       "      <td>0</td>\n",
       "      <td>0</td>\n",
       "      <td>0</td>\n",
       "      <td>0</td>\n",
       "      <td>0</td>\n",
       "      <td>0</td>\n",
       "      <td>1</td>\n",
       "      <td>0</td>\n",
       "      <td>0</td>\n",
       "      <td>0</td>\n",
       "      <td>0</td>\n",
       "      <td>0</td>\n",
       "      <td>0</td>\n",
       "      <td>0</td>\n",
       "      <td>0</td>\n",
       "      <td>0</td>\n",
       "      <td>0</td>\n",
       "      <td>0</td>\n",
       "      <td>0</td>\n",
       "      <td>0</td>\n",
       "      <td>0</td>\n",
       "      <td>0</td>\n",
       "      <td>0</td>\n",
       "      <td>0</td>\n",
       "      <td>0</td>\n",
       "      <td>0</td>\n",
       "      <td>72330</td>\n",
       "    </tr>\n",
       "    <tr>\n",
       "      <th>4</th>\n",
       "      <td>0</td>\n",
       "      <td>0</td>\n",
       "      <td>0</td>\n",
       "      <td>0</td>\n",
       "      <td>0</td>\n",
       "      <td>0</td>\n",
       "      <td>0</td>\n",
       "      <td>0</td>\n",
       "      <td>0</td>\n",
       "      <td>0</td>\n",
       "      <td>0</td>\n",
       "      <td>0</td>\n",
       "      <td>1</td>\n",
       "      <td>0</td>\n",
       "      <td>0</td>\n",
       "      <td>0</td>\n",
       "      <td>0</td>\n",
       "      <td>0</td>\n",
       "      <td>0</td>\n",
       "      <td>0</td>\n",
       "      <td>0</td>\n",
       "      <td>0</td>\n",
       "      <td>0</td>\n",
       "      <td>0</td>\n",
       "      <td>0</td>\n",
       "      <td>0</td>\n",
       "      <td>0</td>\n",
       "      <td>0</td>\n",
       "      <td>0</td>\n",
       "      <td>0</td>\n",
       "      <td>0</td>\n",
       "      <td>0</td>\n",
       "      <td>0</td>\n",
       "      <td>1</td>\n",
       "      <td>0</td>\n",
       "      <td>0</td>\n",
       "      <td>0</td>\n",
       "      <td>0</td>\n",
       "      <td>0</td>\n",
       "      <td>0</td>\n",
       "      <td>0</td>\n",
       "      <td>0</td>\n",
       "      <td>0</td>\n",
       "      <td>1</td>\n",
       "      <td>0</td>\n",
       "      <td>0</td>\n",
       "      <td>0</td>\n",
       "      <td>0</td>\n",
       "      <td>0</td>\n",
       "      <td>0</td>\n",
       "      <td>0</td>\n",
       "      <td>0</td>\n",
       "      <td>0</td>\n",
       "      <td>0</td>\n",
       "      <td>0</td>\n",
       "      <td>0</td>\n",
       "      <td>0</td>\n",
       "      <td>0</td>\n",
       "      <td>0</td>\n",
       "      <td>0</td>\n",
       "      <td>0</td>\n",
       "      <td>0</td>\n",
       "      <td>0</td>\n",
       "      <td>0</td>\n",
       "      <td>0</td>\n",
       "      <td>0</td>\n",
       "      <td>0</td>\n",
       "      <td>0</td>\n",
       "      <td>0</td>\n",
       "      <td>0</td>\n",
       "      <td>0</td>\n",
       "      <td>0</td>\n",
       "      <td>0</td>\n",
       "      <td>55370</td>\n",
       "    </tr>\n",
       "  </tbody>\n",
       "</table>\n",
       "</div>"
      ],
      "text/plain": [
       "   main_S60_1  main_S60_2  main_type_SP100D  ...  sales_29  sales_30   MSRP\n",
       "0           0           0                 0  ...         0         0  51355\n",
       "1           0           0                 0  ...         0         0  71580\n",
       "2           0           0                 0  ...         0         0  66790\n",
       "3           0           0                 0  ...         0         0  72330\n",
       "4           0           0                 0  ...         0         0  55370\n",
       "\n",
       "[5 rows x 74 columns]"
      ]
     },
     "execution_count": 8,
     "metadata": {
      "tags": []
     },
     "output_type": "execute_result"
    }
   ],
   "source": [
    "### START CODE HERE ###\n",
    "# Read in the Q34 data\n",
    "df_pred = pd.read_csv(\"sales_Q34_2019.csv\")\n",
    "# Print the shape of the data\n",
    "print(df_pred.shape)\n",
    "# Examine the first few rows of the data\n",
    "df_pred.head()\n",
    "### END CODE HERE ###"
   ]
  },
  {
   "cell_type": "markdown",
   "metadata": {
    "id": "kcmsU-T1dnNF"
   },
   "source": [
    "# Task I. Consolidate data by finding numbers of unique car combinations sold for training and test data sets\n",
    "\n",
    "You've probably noticed that 73 of the 74 columns in our Q12 and Q34 datasets are one-hot-encoded representations of the car's `'main_type'`, `'engine'`, and `'sales_version'` values. You've probably also noticed that the final column is the car's `'MSRP'`, or manufacturer's (Tesla's, in this case) suggested retail price. In its current form, the sales data doesn't contain a target. The car's `'main_type'`, `'engine'`, `'sales_version'`, and `'MSRP'` values are all known to us before the time of the sale and do not, by themselves, offer us anything which we can predict. \n",
    "\n",
    "However, each row represents the sale of a single car. If we define a unique car type by its combination of `'main_type'`, `'engine'`, and `'sales_version'` values, the number of rows displaying that combination corresponds to the number of times during that half of the year that that distinct type of car was sold in California. Therefore, we can make training and test datasets where each row now corresponds to a unique car type, and the target value is how many times that car type was sold in California during a given half of the year.\n",
    "\n",
    "## This task requires data wrangling!\n",
    "## Create functions that read the Q12 (df_sales) and Q34 (df_pred) data sets and create train_X, train_Y, test_X and test_Y, respectively. Use pandas and NumPy as needed.\n",
    "\n",
    "train_X, test_X = unique row combinations without MSRP column\n",
    "\n",
    "train_Y, test_Y = number of unique cars sold"
   ]
  },
  {
   "cell_type": "code",
   "execution_count": null,
   "metadata": {
    "id": "qRlSIcDGhJ74"
   },
   "outputs": [],
   "source": [
    "def get_features_and_targets(df):\n",
    "    ### START CODE HERE ###\n",
    "    # Create the local data DataFrame as a copy of the input df DataFrame, minus the 'MSRP' column\n",
    "    data = df.drop(columns=['MSRP'])\n",
    "    \n",
    "    # Use the value_counts() method for DataFrames to store the targets as a NumPy array of the \n",
    "    # normalized sales counts associated with each unique combination of 'main_type', 'engine', \n",
    "    # and 'sales_version' values in the data DataFrame\n",
    "    # Make sure the counts are unsorted, so they're listed in order of the combination's first appearance\n",
    "    # in the data DataFrame, and that the array is 2D, with 1 entry per row\n",
    "    Y = np.array(data.value_counts(sort=False, normalize=True))[:, np.newaxis]\n",
    "    # Get a list of the column names of the data DataFrame\n",
    "    subset_names = data.columns.to_list()\n",
    "    # Use the drop_duplicates() method on the df DataFrame to store the features data as a NumPy array where\n",
    "    # each row corresponds to a unique combination of 'main_type', 'engine', and 'sales_version' values\n",
    "    # Make sure to set the subset parameter to subset_names, so the 'MSRP' column isn't included in the \n",
    "    # uniqueness calculations\n",
    "    X = np.array(df.drop_duplicates(subset=subset_names))\n",
    "    # Scale and shift the 'MSRP' column so its values fall in the range [0,1]\n",
    "    # You might find NumPy's ptp() function useful\n",
    "    X[:,-1] = ( X[:,-1] - min(X[:,-1]) ) / np.ptp(X[:,-1])\n",
    "    # Return features and targets\n",
    "    return X, Y\n",
    "    ### END CODE HERE ###"
   ]
  },
  {
   "cell_type": "markdown",
   "metadata": {
    "id": "toTX3W89fX2P"
   },
   "source": [
    "### Extract features and targets as defined above from both the Q12 and Q34 datasets"
   ]
  },
  {
   "cell_type": "code",
   "execution_count": null,
   "metadata": {
    "colab": {
     "base_uri": "https://localhost:8080/"
    },
    "id": "Rf6Vj0ujhJ77",
    "outputId": "a9704f6e-1504-40fe-c935-43528e046448"
   },
   "outputs": [
    {
     "name": "stdout",
     "output_type": "stream",
     "text": [
      "Number of unique cars in Q12 = 66\n",
      "Number of unique cars in Q34 = 71\n"
     ]
    }
   ],
   "source": [
    "### START CODE HERE ###\n",
    "# Extract training features and targets from the Q12 data\n",
    "train_X, train_Y = get_features_and_targets(df_sales)\n",
    "# Extract test features and targets from the Q34 data\n",
    "test_X, test_Y = get_features_and_targets(df_pred)\n",
    "### END CODE HERE ###\n",
    "print(f\"Number of unique cars in Q12 = {len(train_Y)}\")\n",
    "print(f\"Number of unique cars in Q34 = {len(test_Y)}\")"
   ]
  },
  {
   "cell_type": "markdown",
   "metadata": {
    "id": "8d7BSjsQdnNV"
   },
   "source": [
    "You probably noticed that the Q12 and Q34 datasets contained differing numbers of distinct cars. Clearly, some new models were introduced by Q3, but were any discontinued by the end of Q2? Let's find out."
   ]
  },
  {
   "cell_type": "code",
   "execution_count": null,
   "metadata": {
    "colab": {
     "base_uri": "https://localhost:8080/"
    },
    "id": "luGBEZB5hJ8A",
    "outputId": "b102654d-37cc-4033-cef6-0dc8f8b5bd3e"
   },
   "outputs": [
    {
     "name": "stdout",
     "output_type": "stream",
     "text": [
      "Number of unique cars in Q12 and Q34 = 80\n"
     ]
    }
   ],
   "source": [
    "# How many unique cars in 2012 (Q1:Q4)?\n",
    "### START CODE HERE ### \n",
    "# Concatenate the Q12 and Q34 DataFrames into a single DataFrame\n",
    "df_full = pd.concat([df_sales, df_pred])\n",
    "# Extract features and targets from the concatenated Q14 data\n",
    "data_X, data_Y = get_features_and_targets(df_full)\n",
    "### END CODE HERE ###\n",
    "print(f\"Number of unique cars in Q12 and Q34 = {len(data_Y)}\")"
   ]
  },
  {
   "cell_type": "code",
   "execution_count": null,
   "metadata": {
    "colab": {
     "base_uri": "https://localhost:8080/"
    },
    "id": "Hewxl1lMf-VF",
    "outputId": "fdfb16a6-2c77-4355-decd-5395a8b24c3a"
   },
   "outputs": [
    {
     "name": "stdout",
     "output_type": "stream",
     "text": [
      "Cars sold in both halves of 2019:  57\n"
     ]
    }
   ],
   "source": [
    "### START CODE HERE ###\n",
    "#models_q12_or34 refers to (A Union B), models_q14 refers to (A intersection B)\n",
    "common = len(train_Y)+len(test_Y) - len(data_Y)\n",
    "print('Cars sold in both halves of 2019: ', common)\n",
    "### END CODE HERE ###"
   ]
  },
  {
   "cell_type": "markdown",
   "metadata": {
    "id": "3qn6SNBNdnNb"
   },
   "source": [
    "# Task II: Visualize the training and test targets any way you see fit"
   ]
  },
  {
   "cell_type": "code",
   "execution_count": null,
   "metadata": {
    "colab": {
     "base_uri": "https://localhost:8080/",
     "height": 264
    },
    "id": "gyGN9vqLdnNe",
    "outputId": "6424d491-63ed-4dc6-8467-b93f98c2cc38"
   },
   "outputs": [
    {
     "data": {
      "image/png": "[encoded data removed]",
      "text/plain": [
       "<Figure size 432x288 with 1 Axes>"
      ]
     },
     "metadata": {
      "needs_background": "light",
      "tags": []
     },
     "output_type": "display_data"
    }
   ],
   "source": [
    "# Visualize the training targets\n",
    "### START CODE HERE ###\n",
    "plt.scatter(range(len(train_Y)), train_Y)\n",
    "plt.show()\n",
    "### END CODE HERE ###"
   ]
  },
  {
   "cell_type": "code",
   "execution_count": null,
   "metadata": {
    "colab": {
     "base_uri": "https://localhost:8080/",
     "height": 264
    },
    "id": "_Un8DdDafp6s",
    "outputId": "feb23b2d-8acd-49f6-f41d-3fdcc77f7c18"
   },
   "outputs": [
    {
     "data": {
      "image/png": "[encoded data removed]",
      "text/plain": [
       "<Figure size 432x288 with 1 Axes>"
      ]
     },
     "metadata": {
      "needs_background": "light",
      "tags": []
     },
     "output_type": "display_data"
    }
   ],
   "source": [
    "# Visualize the test targets\n",
    "### START CODE HERE ###\n",
    "plt.scatter(range(len(test_Y)), test_Y)\n",
    "plt.show()\n",
    "### END CODE HERE ###"
   ]
  },
  {
   "cell_type": "markdown",
   "metadata": {
    "id": "9g-2fwgydnNh"
   },
   "source": [
    "# Task III: Apply Gradient Descent (Linear, Polynomial)"
   ]
  },
  {
   "cell_type": "markdown",
   "metadata": {
    "id": "fXjeuMN3dnNh"
   },
   "source": [
    "Initialize the $\\theta$ parameters as a column vector of zeros, one for every feature in the training data plus one for bias. \n",
    "\n",
    "Also set hyperparameters for learning rate and maximum number of iterations through the training data."
   ]
  },
  {
   "cell_type": "code",
   "execution_count": null,
   "metadata": {
    "id": "bq--V5vSdnNi"
   },
   "outputs": [],
   "source": [
    "# Initialize learned parameters theta and hyperparameters\n",
    "s_theta = np.zeros((train_X.shape[1]+1, 1))\n",
    "s_learning_rate = 0.001\n",
    "s_max_iteration = 1000"
   ]
  },
  {
   "cell_type": "markdown",
   "metadata": {
    "id": "Lx-wS125dnNk"
   },
   "source": [
    "### Hypothesis Function\n",
    "\n",
    "Define your hypothesis function $h$ (which you use to make predictions $\\hat{Y}$ as the matrix product of your features data X and parameters theta, in that order. \n",
    "\n",
    "Don't forget to add a 0th column of ones to X to account for the bias/offset parameter."
   ]
  },
  {
   "cell_type": "code",
   "execution_count": null,
   "metadata": {
    "id": "SI8oTUQsdnNk"
   },
   "outputs": [],
   "source": [
    "# Define your hypothesis function according to the instructions above\n",
    "def h (theta, X) :\n",
    "    ### START CODE HERE ###\n",
    "    tempX = np.concatenate((np.ones((X.shape[0],1)),X), axis=1)\n",
    "    return np.matmul(tempX,theta)\n",
    "    ### END CODE HERE ###"
   ]
  },
  {
   "cell_type": "markdown",
   "metadata": {
    "id": "7LW5F5uhdnNm"
   },
   "source": [
    "Define your loss function as **half** the MSE (mean squared error) between your actual and predicted Y values. \n",
    "\n",
    "Recall that the predicted Y values are a function of theta and X.\n"
   ]
  },
  {
   "cell_type": "code",
   "execution_count": null,
   "metadata": {
    "colab": {
     "base_uri": "https://localhost:8080/"
    },
    "id": "KzRpZec4dnNm",
    "outputId": "f38f647f-83a9-40ee-bfdc-ddbb0e358e9f"
   },
   "outputs": [
    {
     "data": {
      "text/plain": [
       "0.0004433887668784626"
      ]
     },
     "execution_count": 17,
     "metadata": {
      "tags": []
     },
     "output_type": "execute_result"
    }
   ],
   "source": [
    "# Loss Function\n",
    "def loss (theta, X, Y) :\n",
    "    ### START CODE HERE ###\n",
    "    return 0.5*np.mean(np.square(Y-h(theta,X)) )\n",
    "    ### END CODE HERE ###\n",
    "loss(s_theta, train_X, train_Y)"
   ]
  },
  {
   "cell_type": "markdown",
   "metadata": {
    "id": "PCLgRXivdnNp"
   },
   "source": [
    "### Gradient of Hypothesis Function\n",
    "\n",
    "One can verify through straightforward (if somewhat tedious) multivariable calculus that the gradient of the loss function $J$ with respect to the parameters $\\theta$ is \n",
    "\n",
    "$$ \\frac{\\partial J}{\\partial \\theta} = - \\frac{1}{m} X^T \\cdot (Y - \\hat{Y})$$.\n",
    "\n",
    "Here, $X$ has been augmented with a bias column. \n",
    "\n",
    "Set up a function to compute this gradient."
   ]
  },
  {
   "cell_type": "code",
   "execution_count": null,
   "metadata": {
    "id": "3zYnvBa1dnNp"
   },
   "outputs": [],
   "source": [
    "def gradient (theta, X, Y) :\n",
    "    ### START CODE HERE ###\n",
    "    # Create a temporary X array with an added 0th bias column\n",
    "    tempX = np.concatenate((np.ones((X.shape[0],1)),X), axis=1)\n",
    "    # Compute the gradient according to the instructions above\n",
    "    d_theta = -1/X.shape[0]*np.dot(tempX.T, (Y-h (theta, X)))\n",
    "    ### END CODE HERE ###\n",
    "    return d_theta"
   ]
  },
  {
   "cell_type": "markdown",
   "metadata": {
    "id": "fo-NxmSLdnNr"
   },
   "source": [
    "### Gradient Descent\n",
    "\n",
    "Set up a function to train your linear regression model with gradient descent, i.e. calculate $\\frac{\\partial J}{\\partial \\theta}$ and update $\\theta$. Recall that the general gradient descent update formula is $\\theta := \\theta - \\alpha \\frac{\\partial J}{\\partial \\theta}$. We've provided the skeleton of a stochastic gradient descent function, but you're welcome to experiment with batch and/or minibatch gradient descent. Also recall that the aforementioned gradient descent methods differ in how frequently they calculate $\\frac{\\partial J}{\\partial \\theta}$ and update $\\theta$. "
   ]
  },
  {
   "cell_type": "code",
   "execution_count": null,
   "metadata": {
    "id": "g6hbmDgkdnNs"
   },
   "outputs": [],
   "source": [
    "def stochastic_gradient_descent (theta, X, Y, learning_rate, max_iteration, gap) :\n",
    "    ### START CODE HERE ###\n",
    "    # Initialize the cost as an array of zeros, one for each iteration through the dataset\n",
    "    cost = np.zeros(max_iteration)\n",
    "    # Loop over the dataset\n",
    "    for i in range(max_iteration):\n",
    "        # Loop over each row in the dataset\n",
    "        for j in range(X.shape[0]):\n",
    "            # Compute the gradient from the current row in X and the associated Y value\n",
    "            # Make sure that both X and Y are represented as 2D row vectors\n",
    "            d_theta = gradient(theta, X[j:], Y[j])\n",
    "            # Update theta\n",
    "            #print(d_theta.shape)\n",
    "            theta = theta - learning_rate*d_theta\n",
    "        # Update the cost array for the current iteration\n",
    "        cost[i] = loss (theta, X, Y)\n",
    "    ### END CODE HERE ###\n",
    "        if i % gap == 0 :\n",
    "            print ('iteration : ', i, ' loss : ', loss(theta, X, Y)) \n",
    "    return theta, cost"
   ]
  },
  {
   "cell_type": "code",
   "execution_count": null,
   "metadata": {
    "colab": {
     "base_uri": "https://localhost:8080/"
    },
    "id": "O084UJ8UdnNt",
    "outputId": "a1f566de-4349-471e-c265-5045c00a4b6d"
   },
   "outputs": [
    {
     "name": "stdout",
     "output_type": "stream",
     "text": [
      "iteration :  0  loss :  0.000423825799654156\n",
      "iteration :  100  loss :  0.0003160718299523339\n",
      "iteration :  200  loss :  0.0003137491598998187\n",
      "iteration :  300  loss :  0.0003126176205871965\n",
      "iteration :  400  loss :  0.00031173495499710536\n",
      "iteration :  500  loss :  0.0003109691140045921\n",
      "iteration :  600  loss :  0.000310295121487866\n",
      "iteration :  700  loss :  0.0003097041201610478\n",
      "iteration :  800  loss :  0.00030918863001414866\n",
      "iteration :  900  loss :  0.00030874044205076774\n"
     ]
    }
   ],
   "source": [
    "s_theta, s_cost = stochastic_gradient_descent(s_theta, train_X, train_Y, s_learning_rate, s_max_iteration, 100)"
   ]
  },
  {
   "cell_type": "markdown",
   "metadata": {
    "id": "B6D2kqejdnNv"
   },
   "source": [
    "### Generate Predictions from Test Data"
   ]
  },
  {
   "cell_type": "code",
   "execution_count": null,
   "metadata": {
    "id": "m-u3iTbNdnNw"
   },
   "outputs": [],
   "source": [
    "### START CODE HERE ###\n",
    "GD_P = h(s_theta, test_X)\n",
    "### END CODE HERE ###\n",
    "# Set any negative predictions to 0\n",
    "GD_P[GD_P<0] = 0\n",
    "\n",
    "SGD_Predict = GD_P"
   ]
  },
  {
   "cell_type": "markdown",
   "metadata": {
    "id": "2ImYOho6dnNy"
   },
   "source": [
    "### Visualize the predicted and actual test labels"
   ]
  },
  {
   "cell_type": "code",
   "execution_count": null,
   "metadata": {
    "colab": {
     "base_uri": "https://localhost:8080/",
     "height": 282
    },
    "id": "Ljk24gJ4dnNy",
    "outputId": "2e665d19-b089-433f-93be-b7a3c2ca8895"
   },
   "outputs": [
    {
     "name": "stdout",
     "output_type": "stream",
     "text": [
      "RMSE, R2 = 0.00041 , 0.18906\n"
     ]
    },
    {
     "data": {
      "image/png": "[encoded data removed]",
      "text/plain": [
       "<Figure size 432x288 with 1 Axes>"
      ]
     },
     "metadata": {
      "needs_background": "light",
      "tags": []
     },
     "output_type": "display_data"
    }
   ],
   "source": [
    "plt.scatter(range(len(test_Y)), test_Y,  color='black')\n",
    "plt.scatter(range(len(GD_P)), GD_P, color='blue', linewidth=3)\n",
    "from sklearn.metrics import mean_squared_error as MSE\n",
    "\n",
    "# This function evaluates the R**2 statistic\n",
    "# Source: https://stackoverflow.com/questions/893657/how-do-i-calculate-r-squared-using-python-and-numpy\n",
    "def r2(Yt,Yp):\n",
    "    yhat = Yp                         \n",
    "    ybar = np.sum(Yt)/len(Yt)          \n",
    "    ssreg = np.sum((yhat-ybar)**2)   \n",
    "    sstot = np.sum((Yt - ybar)**2)    \n",
    "    results = ssreg / sstot\n",
    "    return results\n",
    "\n",
    "\n",
    "SGD = [\"RMSE, R2 =\", str(round(MSE(test_Y,GD_P),5)),',', str(round(r2(test_Y,GD_P),5))]\n",
    "SGD = ' '.join(SGD)\n",
    "print(SGD)"
   ]
  },
  {
   "cell_type": "markdown",
   "metadata": {
    "id": "QNFkAA7gdnN0"
   },
   "source": [
    "# Task IV: Normal Equations\n",
    "\n",
    "Since our training dataset isn't very large, let's generate predictions using the normal equations: \n",
    "\n",
    "$$W = (X^T \\cdot X)^{-1} \\cdot X^T \\cdot Y$$ \n",
    "$$\\hat{Y} = X \\cdot W$$\n",
    "\n",
    "and see how they compare to the predictions which we obtained from gradient descent.\n",
    "Ensure $$Y=[nx1], W=[dx1], X[nxd]$$ dimensions, respectively."
   ]
  },
  {
   "cell_type": "code",
   "execution_count": null,
   "metadata": {
    "id": "ez7XC2qQdnN1"
   },
   "outputs": [],
   "source": [
    "### START CODE HERE ###\n",
    "# Compute the inverse of the matrix product of the transpose of X and X\n",
    "X= train_X\n",
    "Y= train_Y\n",
    "inv1 = np.linalg.pinv(np.dot(X.T,X))\n",
    "\n",
    "# Compute W using the first of the Normal Equations\n",
    "W1 = np.dot(np.dot(inv1,X.T),Y)\n",
    "# Compute the predicted Y values using the second of the Normal Equations\n",
    "PN1 = np.dot(test_X,W1)\n",
    "### END CODE HERE ###\n",
    "\n",
    "# Set any negative predictions to 0\n",
    "PN1[np.where(PN1<0)]=0\n",
    "\n",
    "Normal_Predict = PN1\n",
    "\n"
   ]
  },
  {
   "cell_type": "code",
   "execution_count": null,
   "metadata": {
    "colab": {
     "base_uri": "https://localhost:8080/",
     "height": 300
    },
    "id": "lu9NjgsJdnN3",
    "outputId": "90d2ed4d-5845-49f3-90d8-31d079291ca5",
    "scrolled": true
   },
   "outputs": [
    {
     "name": "stdout",
     "output_type": "stream",
     "text": [
      "RMSE, R2 for prediction all features = 0.0005596570062877894 0.8479142625775232\n",
      "RMSE, R2 = 0.00056 , 0.84791\n"
     ]
    },
    {
     "data": {
      "image/png": "[encoded data removed]",
      "text/plain": [
       "<Figure size 432x288 with 1 Axes>"
      ]
     },
     "metadata": {
      "needs_background": "light",
      "tags": []
     },
     "output_type": "display_data"
    }
   ],
   "source": [
    "# Plot outputs\n",
    "plt.scatter(range(len(test_Y)), test_Y,  color='black')\n",
    "plt.scatter(range(len(PN1)), PN1, color='blue', linewidth=3)\n",
    "print(\"RMSE, R2 for prediction all features =\", MSE(test_Y,PN1), r2(test_Y,PN1)) #[Low error high corr]\n",
    "\n",
    "Normal = [\"RMSE, R2 =\", str(round(MSE(test_Y,PN1),5)),',', str(round(r2(test_Y,PN1),5))]\n",
    "Normal = ' '.join(Normal)\n",
    "print(Normal)"
   ]
  },
  {
   "cell_type": "markdown",
   "metadata": {
    "id": "i3ofJxdUdnN6"
   },
   "source": [
    "### Regularized Normal Equations"
   ]
  },
  {
   "cell_type": "code",
   "execution_count": null,
   "metadata": {
    "colab": {
     "base_uri": "https://localhost:8080/"
    },
    "id": "VyIX4LaAdnN6",
    "outputId": "243606e1-9e46-4565-d729-92e042446c8d"
   },
   "outputs": [
    {
     "name": "stdout",
     "output_type": "stream",
     "text": [
      "Recall that our training features array train_X has\n",
      "m = 66 rows and n = 74 columns\n"
     ]
    }
   ],
   "source": [
    "print('Recall that our training features array train_X has')\n",
    "print(f'm = {train_X.shape[0]} rows and n = {train_X.shape[1]} columns')"
   ]
  },
  {
   "cell_type": "markdown",
   "metadata": {
    "id": "BSvkrQ6EdnN8"
   },
   "source": [
    "`train_X` is thus wider than it is tall, which suggests that the regularized normal equations might perform better in generating label predictions. In this case, we modify the first of the normal equations given above to \n",
    "\n",
    "$$W = (X^T \\cdot X + \\lambda m I)^{-1} \\cdot X^T \\cdot Y$$.\n",
    "\n",
    "Here, $\\lambda$ is the regularization parameter and $m$ is the number of rows in $X$."
   ]
  },
  {
   "cell_type": "markdown",
   "metadata": {
    "id": "7Mgd1zocdnN9"
   },
   "source": [
    "### Repeat the previous parts of Task IV, but this time incorporate regularization"
   ]
  },
  {
   "cell_type": "code",
   "execution_count": null,
   "metadata": {
    "colab": {
     "base_uri": "https://localhost:8080/",
     "height": 300
    },
    "id": "bIrbJkOydnN9",
    "outputId": "a645b6d4-bd9b-49fc-9d21-02fee7e14292"
   },
   "outputs": [
    {
     "name": "stdout",
     "output_type": "stream",
     "text": [
      "RMSE, R2 for prediction all features = 0.0004322737811568533 0.2614195347874885\n",
      "RMSE, R2 = 0.00043 , 0.26142\n"
     ]
    },
    {
     "data": {
      "image/png": "[encoded data removed]",
      "text/plain": [
       "<Figure size 432x288 with 1 Axes>"
      ]
     },
     "metadata": {
      "needs_background": "light",
      "tags": []
     },
     "output_type": "display_data"
    }
   ],
   "source": [
    "### START CODE HERE ###\n",
    "# Compute the inverse of the matrix product of the transpose of X and X\n",
    "lambda_1 =1\n",
    "X= train_X\n",
    "Y= train_Y\n",
    "inv1 = np.linalg.pinv(np.dot(X.T,X) + lambda_1*X.shape[0]*np.identity(X.shape[1]))\n",
    "\n",
    "# Compute W using the first of the Normal Equations\n",
    "W1 = np.dot(np.dot(inv1,X.T),Y)\n",
    "# Compute the predicted Y values using the second of the Normal Equations\n",
    "PN1 = np.dot(test_X,W1)\n",
    "### END CODE HERE ###\n",
    "\n",
    "# Set any negative predictions to 0\n",
    "PN1[np.where(PN1<0)]=0\n",
    "\n",
    "# Plot outputs\n",
    "plt.scatter(range(len(test_Y)), test_Y,  color='black')\n",
    "plt.scatter(range(len(PN1)), PN1, color='blue', linewidth=3)\n",
    "print(\"RMSE, R2 for prediction all features =\", MSE(test_Y,PN1), r2(test_Y,PN1)) #[Low error high corr]\n",
    "\n",
    "NormalReg = [\"RMSE, R2 =\", str(round(MSE(test_Y,PN1),5)),',', str(round(r2(test_Y,PN1),5))]\n",
    "NormalReg = ' '.join(NormalReg)\n",
    "print(NormalReg)\n",
    "\n",
    "NormalReg_Predict = PN1"
   ]
  },
  {
   "cell_type": "markdown",
   "metadata": {
    "id": "o5uD0DVidnN_"
   },
   "source": [
    "# Task V: Non-linear Regression Models (GLM, DT) "
   ]
  },
  {
   "cell_type": "markdown",
   "metadata": {
    "id": "Yk0Be7SQdnN_"
   },
   "source": [
    "### Generalized Linear Models\n",
    "\n",
    "`sm` (our alias for `statsmodels.api`) contains a `GLM` class. Use it to instantiate a model. The relevant parameters are training labels, training features, and `ffamily`, i.e. the family of distributions to which we assume our prediction errors belong. Some potentially good choices for `ffamily` include Gaussian, Gamma, and Logit."
   ]
  },
  {
   "cell_type": "code",
   "execution_count": null,
   "metadata": {
    "colab": {
     "base_uri": "https://localhost:8080/"
    },
    "id": "cxUdD_LhdnN_",
    "outputId": "6ef53999-f24a-4f8d-acd2-192158ad0ea7"
   },
   "outputs": [
    {
     "name": "stderr",
     "output_type": "stream",
     "text": [
      "/usr/local/lib/python3.7/dist-packages/statsmodels/tools/_testing.py:19: FutureWarning: pandas.util.testing is deprecated. Use the functions in the public API at pandas.testing instead.\n",
      "  import pandas.util.testing as tm\n"
     ]
    },
    {
     "name": "stdout",
     "output_type": "stream",
     "text": [
      "                 Generalized Linear Model Regression Results                  \n",
      "==============================================================================\n",
      "Dep. Variable:                      y   No. Observations:                   66\n",
      "Model:                            GLM   Df Residuals:                       34\n",
      "Model Family:                 Poisson   Df Model:                           31\n",
      "Link Function:                    log   Scale:                          1.0000\n",
      "Method:                          IRLS   Log-Likelihood:                -4.0445\n",
      "Date:                Sun, 23 May 2021   Deviance:                      0.59438\n",
      "Time:                        17:36:31   Pearson chi2:                    0.632\n",
      "No. Iterations:                     8                                         \n",
      "Covariance Type:            nonrobust                                         \n",
      "==============================================================================\n",
      "                 coef    std err          z      P>|z|      [0.025      0.975]\n",
      "------------------------------------------------------------------------------\n",
      "const         -4.2492     18.073     -0.235      0.814     -39.671      31.173\n",
      "x1          1.151e-15   3.47e-14      0.033      0.974   -6.69e-14    6.92e-14\n",
      "x2         -2.772e-15   4.53e-14     -0.061      0.951   -9.16e-14    8.61e-14\n",
      "x3             2.7726     78.752      0.035      0.972    -151.578     157.123\n",
      "x4            -3.1884    109.790     -0.029      0.977    -218.373     211.996\n",
      "x5             0.7285     32.167      0.023      0.982     -62.318      63.775\n",
      "x6             2.4808     15.006      0.165      0.869     -26.930      31.892\n",
      "x7             0.3592     16.073      0.022      0.982     -31.144      31.862\n",
      "x8          2.844e-15   5.77e-14      0.049      0.961    -1.1e-13    1.16e-13\n",
      "x9            -1.0704     42.609     -0.025      0.980     -84.583      82.443\n",
      "x10            0.5073     15.893      0.032      0.975     -30.642      31.657\n",
      "x11           -0.4403     21.490     -0.020      0.984     -42.559      41.679\n",
      "x12            0.5015     16.933      0.030      0.976     -32.686      33.689\n",
      "x13            2.3438     15.002      0.156      0.876     -27.059      31.747\n",
      "x14           -3.3676     65.559     -0.051      0.959    -131.860     125.125\n",
      "x15         5.411e-16   2.15e-14      0.025      0.980   -4.15e-14    4.26e-14\n",
      "x16         3.516e-16   2.95e-14      0.012      0.990   -5.74e-14    5.81e-14\n",
      "x17            0.4984     10.411      0.048      0.962     -19.907      20.904\n",
      "x18           -0.1435      7.542     -0.019      0.985     -14.926      14.639\n",
      "x19        -5.142e-16   3.12e-14     -0.016      0.987   -6.17e-14    6.07e-14\n",
      "x20        -9.327e-16   4.26e-14     -0.022      0.983   -8.44e-14    8.25e-14\n",
      "x21         4.604e-16   3.81e-14      0.012      0.990   -7.42e-14    7.51e-14\n",
      "x22           -3.2334     34.036     -0.095      0.924     -69.943      63.476\n",
      "x23          2.18e-15   3.33e-14      0.065      0.948   -6.31e-14    6.74e-14\n",
      "x24           -0.6172     32.577     -0.019      0.985     -64.466      63.232\n",
      "x25        -1.249e-15   5.72e-14     -0.022      0.983   -1.13e-13    1.11e-13\n",
      "x26         5.677e-15    1.7e-13      0.033      0.973   -3.28e-13    3.39e-13\n",
      "x27        -1.967e-15   3.14e-14     -0.063      0.950   -6.36e-14    5.96e-14\n",
      "x28         3.242e-15   4.86e-14      0.067      0.947    -9.2e-14    9.85e-14\n",
      "x29         -9.65e-16   1.31e-14     -0.074      0.941   -2.66e-14    2.47e-14\n",
      "x30        -8.791e-16   1.86e-14     -0.047      0.962   -3.74e-14    3.56e-14\n",
      "x31           -0.6259     27.091     -0.023      0.982     -53.723      52.471\n",
      "x32           -2.0428     30.247     -0.068      0.946     -61.325      57.239\n",
      "x33           -2.2114     31.444     -0.070      0.944     -63.841      59.419\n",
      "x34           -0.1527      2.675     -0.057      0.954      -5.396       5.091\n",
      "x35                 0          0        nan        nan           0           0\n",
      "x36                 0          0        nan        nan           0           0\n",
      "x37                 0          0        nan        nan           0           0\n",
      "x38            0.6419      6.753      0.095      0.924     -12.593      13.877\n",
      "x39                 0          0        nan        nan           0           0\n",
      "x40                 0          0        nan        nan           0           0\n",
      "x41           -2.2289     39.279     -0.057      0.955     -79.214      74.757\n",
      "x42                 0          0        nan        nan           0           0\n",
      "x43           -1.0635      3.542     -0.300      0.764      -8.007       5.880\n",
      "x44           -0.4008     22.089     -0.018      0.986     -43.695      42.893\n",
      "x45                 0          0        nan        nan           0           0\n",
      "x46            0.8547     22.768      0.038      0.970     -43.771      45.480\n",
      "x47           -0.1261     25.842     -0.005      0.996     -50.775      50.523\n",
      "x48           -3.9619     63.971     -0.062      0.951    -129.342     121.418\n",
      "x49                 0          0        nan        nan           0           0\n",
      "x50           -2.0247     22.721     -0.089      0.929     -46.557      42.508\n",
      "x51           -2.1011     22.072     -0.095      0.924     -45.361      41.159\n",
      "x52           -1.3091     21.965     -0.060      0.952     -44.360      41.742\n",
      "x53            2.7895     56.784      0.049      0.961    -108.505     114.084\n",
      "x54            4.7640     56.549      0.084      0.933    -106.070     115.598\n",
      "x55                 0          0        nan        nan           0           0\n",
      "x56                 0          0        nan        nan           0           0\n",
      "x57                 0          0        nan        nan           0           0\n",
      "x58                 0          0        nan        nan           0           0\n",
      "x59                 0          0        nan        nan           0           0\n",
      "x60            0.1776     28.518      0.006      0.995     -55.716      56.071\n",
      "x61                 0          0        nan        nan           0           0\n",
      "x62                 0          0        nan        nan           0           0\n",
      "x63                 0          0        nan        nan           0           0\n",
      "x64           -2.2114     31.444     -0.070      0.944     -63.841      59.419\n",
      "x65                 0          0        nan        nan           0           0\n",
      "x66                 0          0        nan        nan           0           0\n",
      "x67           -1.0551     21.923     -0.048      0.962     -44.023      41.912\n",
      "x68            3.1452     56.659      0.056      0.956    -107.905     114.195\n",
      "x69           -0.6172     32.577     -0.019      0.985     -64.466      63.232\n",
      "x70                 0          0        nan        nan           0           0\n",
      "x71           -2.1728     22.844     -0.095      0.924     -46.947      42.602\n",
      "x72                 0          0        nan        nan           0           0\n",
      "x73                 0          0        nan        nan           0           0\n",
      "x74            0.3564      8.117      0.044      0.965     -15.552      16.265\n",
      "==============================================================================\n"
     ]
    },
    {
     "name": "stderr",
     "output_type": "stream",
     "text": [
      "/usr/local/lib/python3.7/dist-packages/ipykernel_launcher.py:7: DeprecationWarning: Calling Family(..) with a link class as argument is deprecated.\n",
      "Use an instance of a link class instead.\n",
      "  import sys\n",
      "/usr/local/lib/python3.7/dist-packages/statsmodels/base/model.py:1294: RuntimeWarning: invalid value encountered in true_divide\n",
      "  return self.params / self.bse\n"
     ]
    }
   ],
   "source": [
    "# GLM \n",
    "import statsmodels.api as sm\n",
    "### START CODE HERE ###\n",
    "# Instantiate the GLM\n",
    "exog, endog = sm.add_constant(train_X), train_Y\n",
    "mod = sm.GLM(endog, exog,\n",
    "             family=sm.families.Poisson(link=sm.families.links.log))\n",
    "\n",
    "# Train the GLM\n",
    "res = mod.fit()\n",
    "G_P = res.predict(sm.add_constant(train_X))\n",
    "G_P\n",
    "### END CODE HERE ###\n",
    "print(res.summary())"
   ]
  },
  {
   "cell_type": "markdown",
   "metadata": {
    "id": "7IAchWHodnOB"
   },
   "source": [
    "### Generate predictions from the test data"
   ]
  },
  {
   "cell_type": "code",
   "execution_count": null,
   "metadata": {
    "id": "XLTsITX7dnOC"
   },
   "outputs": [],
   "source": [
    "### START CODE HERE ###\n",
    "G_P = res.predict(sm.add_constant(test_X))\n",
    "### END CODE HERE ###\n",
    "# Set any negative predictions to 0\n",
    "G_P[G_P<0]=0\n",
    "\n",
    "GLM_Predict = G_P"
   ]
  },
  {
   "cell_type": "code",
   "execution_count": null,
   "metadata": {
    "colab": {
     "base_uri": "https://localhost:8080/",
     "height": 301
    },
    "id": "TgXIT-JpdnOE",
    "outputId": "37b84573-c064-44b3-d8bf-30be26e75b0f"
   },
   "outputs": [
    {
     "name": "stdout",
     "output_type": "stream",
     "text": [
      "RMSE, R2 = 0.00097844816738423 1.918738879261513\n"
     ]
    },
    {
     "data": {
      "application/vnd.google.colaboratory.intrinsic+json": {
       "type": "string"
      },
      "text/plain": [
       "'RMSE, R2 = 0.00098 , 1.91874'"
      ]
     },
     "execution_count": 28,
     "metadata": {
      "tags": []
     },
     "output_type": "execute_result"
    },
    {
     "data": {
      "image/png": "[encoded data removed]",
      "text/plain": [
       "<Figure size 432x288 with 1 Axes>"
      ]
     },
     "metadata": {
      "needs_background": "light",
      "tags": []
     },
     "output_type": "display_data"
    }
   ],
   "source": [
    "# Plot outputs\n",
    "plt.scatter(range(len(test_Y)), test_Y,  color='black')\n",
    "plt.scatter(range(len(G_P)), G_P, color='blue', linewidth=3)\n",
    "print(\"RMSE, R2 =\", MSE(test_Y,G_P), r2(test_Y,G_P)) \n",
    "\n",
    "GLM = [\"RMSE, R2 =\", str(round(MSE(test_Y,G_P),5)),',', str(round(r2(test_Y,G_P),5))]\n",
    "GLM = ' '.join(GLM)\n",
    "GLM"
   ]
  },
  {
   "cell_type": "markdown",
   "metadata": {
    "id": "Vld0rNUcdnOG"
   },
   "source": [
    "### Random Forest Regression\n",
    "\n",
    "Use the `RandomForestRegressor` from `sklearn.ensemble` to generate predictions. The relevant parameters are the `max_depth` of the trees and the `random_state`, to ensure reproducibility."
   ]
  },
  {
   "cell_type": "code",
   "execution_count": null,
   "metadata": {
    "colab": {
     "base_uri": "https://localhost:8080/"
    },
    "id": "EbxRUm3UdnOG",
    "outputId": "5468a532-9fe4-4984-ce27-35de57050b93"
   },
   "outputs": [
    {
     "name": "stderr",
     "output_type": "stream",
     "text": [
      "/usr/local/lib/python3.7/dist-packages/ipykernel_launcher.py:7: DataConversionWarning: A column-vector y was passed when a 1d array was expected. Please change the shape of y to (n_samples,), for example using ravel().\n",
      "  import sys\n"
     ]
    }
   ],
   "source": [
    "### START CODE HERE ###\n",
    "from sklearn.ensemble import RandomForestRegressor\n",
    "# Instantiate the random forest regression model\n",
    "regr =  RandomForestRegressor()\n",
    "\n",
    "# Train the model\n",
    "regr.fit(train_X, train_Y)\n",
    "\n",
    "# Generate predictions from the test data\n",
    "pred_rf = regr.predict(test_X)\n",
    "### END CODE HERE ###"
   ]
  },
  {
   "cell_type": "code",
   "execution_count": null,
   "metadata": {
    "id": "bWVeR1PvdnOI"
   },
   "outputs": [],
   "source": [
    "# Set any negative predictions to 0\n",
    "pred_rf[np.where(pred_rf<0)]=0\n",
    "\n",
    "RF_Predict = pred_rf"
   ]
  },
  {
   "cell_type": "code",
   "execution_count": null,
   "metadata": {
    "colab": {
     "base_uri": "https://localhost:8080/",
     "height": 300
    },
    "id": "YSZX9t1MdnOK",
    "outputId": "293514ee-66e6-45bc-f3bd-940179f299d4"
   },
   "outputs": [
    {
     "name": "stdout",
     "output_type": "stream",
     "text": [
      "RMSE, R2 for Decision Trees= 0.000628350621252098 0.8936054481753692\n",
      "RMSE, R2 = 0.00063 , 0.89361\n"
     ]
    },
    {
     "data": {
      "image/png": "[encoded data removed]",
      "text/plain": [
       "<Figure size 432x288 with 1 Axes>"
      ]
     },
     "metadata": {
      "needs_background": "light",
      "tags": []
     },
     "output_type": "display_data"
    }
   ],
   "source": [
    "# Plot outputs\n",
    "plt.scatter(range(len(test_Y)), test_Y,  color='black')\n",
    "plt.scatter(range(len(pred_rf)), pred_rf, color='blue', linewidth=3)\n",
    "print(\"RMSE, R2 for Decision Trees=\", MSE(test_Y,pred_rf), r2(test_Y,pred_rf)) #[Low error high corr]\n",
    "RF = [\"RMSE, R2 =\", str(round(MSE(test_Y,pred_rf),5)),',', str(round(r2(test_Y,pred_rf),5))]\n",
    "RF = ' '.join(RF)\n",
    "print(RF)"
   ]
  },
  {
   "cell_type": "markdown",
   "metadata": {
    "id": "bxx1JrikdnON"
   },
   "source": [
    "## Populate the table below with the results of your experiments above. Which models performed best?"
   ]
  },
  {
   "cell_type": "code",
   "execution_count": null,
   "metadata": {
    "colab": {
     "base_uri": "https://localhost:8080/"
    },
    "id": "5sdFLWIHb48y",
    "outputId": "7752b34c-b186-4103-c603-de7d14dbbe3b"
   },
   "outputs": [
    {
     "name": "stdout",
     "output_type": "stream",
     "text": [
      "1. Gradient Descent   - RMSE, R2 = 0.00041 , 0.18906\n",
      "2. Normal Equations   - RMSE, R2 = 0.00056 , 0.84791\n",
      "3. Regularized Normal - RMSE, R2 = 0.00043 , 0.26142\n",
      "4. GLM                - RMSE, R2 = 0.00098 , 1.91874\n",
      "5. Decision Trees     - RMSE, R2 = 0.00063 , 0.89361\n"
     ]
    }
   ],
   "source": [
    "##Results\n",
    "print('1. Gradient Descent   -' , SGD)\n",
    "print('2. Normal Equations   -', Normal)\n",
    "print('3. Regularized Normal -', NormalReg)\n",
    "print('4. GLM                -', GLM)\n",
    "print('5. Decision Trees     -', RF)\n",
    "\n",
    "\n"
   ]
  },
  {
   "cell_type": "markdown",
   "metadata": {
    "id": "44MPnft4dnON"
   },
   "source": [
    "## Results\n",
    "---------------------------------------------------------------------------\n",
    "Method                                          |  RMSE             | R2               |\n",
    "-------------------------------------------------------------------------------------\n",
    "1. Gradient Descent   - RMSE, R2 = 0.00041 , 0.18906\n",
    "2. Normal Equations   - RMSE, R2 = 0.00043 , 0.26142\n",
    "3. Regularized Normal - RMSE, R2 = 0.00043 , 0.26142\n",
    "4. GLM                - RMSE, R2 = 0.00098 , 1.91874\n",
    "5. Decision Trees     - RMSE, R2 = 0.0007 , 1.10362\n",
    "\n",
    "Based on RMSE - Gradient Descent solution is the most accurate."
   ]
  },
  {
   "cell_type": "markdown",
   "metadata": {
    "id": "n_HoMbxTdnOO"
   },
   "source": [
    "## Finally, pick some car types for which your models over- and under-predicted sales. Attempt to determine the root causes. Write your findings below."
   ]
  },
  {
   "cell_type": "markdown",
   "metadata": {
    "id": "eq374X9gfPUu"
   },
   "source": [
    "# Findings\n",
    "\n",
    "To identify over and under predicitons the model of the choice was the **gradient descend model** (as this was the best model based on RMSE on test set).\n",
    "\n",
    "Over and Under Predictins are defined as the cases where models under and over-predicted by more than an difference of 0.02. To understand the reason for over-under predicitons test and train sets were compared. \n",
    "\n",
    "Firstly there are car models which are missing from the training set. Since these cars were not explicitly modeled one can expect higher inaccuracy for such data.\n",
    "\n",
    "In addition to this for cases of poor predicitons we see a very high difference in train and test target values.\n",
    "\n",
    "1. For cases where model predictions are within margin of 0.02, the proportion of sales in test set compare to train set only changed by -0.006.\n",
    "2. For cases where models over-perdict the propotion of sales in test set compare to test set changed by -0.026.\n",
    "3. For cases where models under predict the propotion of sales in test set compare to test set changed by -0.057. \n",
    "\n",
    "\n",
    "The models built here lacks time-series features that can enable capture this change in relative proportion of sales over-time. Hence we can expect model predictions to be weak for cases where relative proportion of Q1/Q2 vs Q3/Q4 sales are drastically different."
   ]
  },
  {
   "cell_type": "code",
   "execution_count": null,
   "metadata": {
    "colab": {
     "base_uri": "https://localhost:8080/"
    },
    "id": "CjY97eSkix3e",
    "outputId": "da44e9b1-95ea-405c-d9fd-2edf0c30f7f2"
   },
   "outputs": [
    {
     "name": "stdout",
     "output_type": "stream",
     "text": [
      "Examples where all models Over-predict\n",
      "-0.02505864200719655\n",
      "0.05773087893972589\n",
      "-0.00575456466325063\n"
     ]
    },
    {
     "name": "stderr",
     "output_type": "stream",
     "text": [
      "/usr/local/lib/python3.7/dist-packages/ipykernel_launcher.py:51: SettingWithCopyWarning: \n",
      "A value is trying to be set on a copy of a slice from a DataFrame.\n",
      "Try using .loc[row_indexer,col_indexer] = value instead\n",
      "\n",
      "See the caveats in the documentation: https://pandas.pydata.org/pandas-docs/stable/user_guide/indexing.html#returning-a-view-versus-a-copy\n",
      "/usr/local/lib/python3.7/dist-packages/ipykernel_launcher.py:52: SettingWithCopyWarning: \n",
      "A value is trying to be set on a copy of a slice from a DataFrame.\n",
      "Try using .loc[row_indexer,col_indexer] = value instead\n",
      "\n",
      "See the caveats in the documentation: https://pandas.pydata.org/pandas-docs/stable/user_guide/indexing.html#returning-a-view-versus-a-copy\n",
      "/usr/local/lib/python3.7/dist-packages/ipykernel_launcher.py:53: SettingWithCopyWarning: \n",
      "A value is trying to be set on a copy of a slice from a DataFrame.\n",
      "Try using .loc[row_indexer,col_indexer] = value instead\n",
      "\n",
      "See the caveats in the documentation: https://pandas.pydata.org/pandas-docs/stable/user_guide/indexing.html#returning-a-view-versus-a-copy\n"
     ]
    }
   ],
   "source": [
    "# data = pd.DataFrame(np.concatenate((SGD_Predict,Normal_Predict,NormalReg_Predict,GLM_Predict.reshape(71,1),RF_Predict.reshape(71,1), test_Y), axis=1))\n",
    "# data.columns = ['SGD_Predict','Normal_Predict','NormalReg_Predict','GLM_Predict','RF_Predict','test_Y']\n",
    "\n",
    "# data['Underpredict'] = data.apply(lambda x: 1 if all(x['test_Y']>x[['SGD_Predict','Normal_Predict','NormalReg_Predict','GLM_Predict','RF_Predict']]) else 0 , axis=1)\n",
    "# data['Overpredict'] = data.apply(lambda x: 1 if all(x['test_Y']<x[['SGD_Predict','Normal_Predict','NormalReg_Predict','GLM_Predict','RF_Predict']]) else 0 , axis=1)\n",
    "# Over = data.loc[data['Overpredict'] == 1]\n",
    "# Under = data.loc[data['Underpredict'] == 1]\n",
    "\n",
    "# print('Examples where all models Over-predict')\n",
    "\n",
    "# TestFeatures = pd.DataFrame(np.concatenate((test_X, test_Y), axis=1))\n",
    "# TrainFeatures = pd.DataFrame(np.concatenate((train_X, train_Y), axis=1))\n",
    "\n",
    "# Over_Features = TestFeatures[TestFeatures.index.isin(Over.index)]\n",
    "# Under_Features = TestFeatures[TestFeatures.index.isin(Under.index)]\n",
    "\n",
    "\n",
    "# Over_Features['hash']  = pd.DataFrame(Over_Features.iloc[:,:-1].apply(lambda row: '_'.join(row.values.astype(str)), axis=1)) \n",
    "# Under_Features['hash'] = pd.DataFrame(Under_Features.iloc[:,:-1].apply(lambda row: '_'.join(row.values.astype(str)), axis=1)) \n",
    "# TrainFeatures['hash']  = pd.DataFrame(TrainFeatures.iloc[:,:-1].apply(lambda row: '_'.join(row.values.astype(str)), axis=1)) \n",
    "\n",
    "# Over_Features = Over_Features.iloc[:,range(-2,0)]\n",
    "# Over_Features.columns = ['test_y','hash']\n",
    "# Under_Features = Under_Features.iloc[:,range(-2,0)]\n",
    "# Under_Features.columns = ['test_y','hash']\n",
    "# TrainFeatures = TrainFeatures.iloc[:,range(-2,0)]\n",
    "# TrainFeatures.columns = ['train_y','hash']\n",
    "# #Over_Features.merge(TrainFeatures, on='hash', how=\"left\")\n",
    "\n",
    "# Over_Features.merge(TrainFeatures, on='hash', how=\"left\") \n",
    "# Under_Features.merge(TrainFeatures, on='hash', how=\"left\") \n",
    "\n",
    "data = pd.DataFrame(np.concatenate((SGD_Predict, test_Y), axis=1))\n",
    "colnames = ['SGD_Predict','test_Y']\n",
    "data.columns = colnames\n",
    "data['Underpredict'] = data.apply(lambda x: 1 if all(x['test_Y']-x[colnames[:-1]]> 0.02) else 0 , axis=1)\n",
    "data['Overpredict']  = data.apply(lambda x: 1 if all(x['test_Y']-x[colnames[:-1]]<-0.02) else 0 , axis=1)\n",
    "Over = data.loc[data['Overpredict'] == 1]\n",
    "Under = data.loc[data['Underpredict'] == 1]\n",
    "Decent = data.loc[(data['Underpredict'] == 0) & (data['Overpredict'] == 0)]\n",
    "\n",
    "print('Examples where all models Over-predict')\n",
    "\n",
    "TestFeatures = pd.DataFrame(np.concatenate((test_X, test_Y), axis=1))\n",
    "TrainFeatures = pd.DataFrame(np.concatenate((train_X, train_Y), axis=1))\n",
    "\n",
    "Over_Features   = TestFeatures[TestFeatures.index.isin(Over.index)]\n",
    "Under_Features  = TestFeatures[TestFeatures.index.isin(Under.index)]\n",
    "Decent_Features = TestFeatures[TestFeatures.index.isin(Decent.index)]\n",
    "\n",
    "Over_Features['hash']   = pd.DataFrame(Over_Features.iloc[:,:-1].apply(lambda row: '_'.join(row.values.astype(str)), axis=1)) \n",
    "Under_Features['hash']  = pd.DataFrame(Under_Features.iloc[:,:-1].apply(lambda row: '_'.join(row.values.astype(str)), axis=1))\n",
    "Decent_Features['hash'] = pd.DataFrame(Decent_Features.iloc[:,:-1].apply(lambda row: '_'.join(row.values.astype(str)), axis=1)) \n",
    "TrainFeatures['hash']   = pd.DataFrame(TrainFeatures.iloc[:,:-1].apply(lambda row: '_'.join(row.values.astype(str)), axis=1)) \n",
    "\n",
    "Over_Features = Over_Features.iloc[:,range(-2,0)]\n",
    "Over_Features.columns = ['test_y','hash']\n",
    "Under_Features = Under_Features.iloc[:,range(-2,0)]\n",
    "Under_Features.columns = ['test_y','hash']\n",
    "Decent_Features = Decent_Features.iloc[:,range(-2,0)]\n",
    "Decent_Features.columns = ['test_y','hash']\n",
    "TrainFeatures = TrainFeatures.iloc[:,range(-2,0)]\n",
    "TrainFeatures.columns = ['train_y','hash']\n",
    "#Over_Features.merge(TrainFeatures, on='hash', how=\"left\")\n",
    "Over_Features = Over_Features.merge(TrainFeatures, on='hash', how=\"left\")\n",
    "Under_Features = Under_Features.merge(TrainFeatures, on='hash', how=\"left\")\n",
    "Decent_Features = Decent_Features.merge(TrainFeatures, on='hash', how=\"left\")\n",
    "\n",
    "\n",
    "print((Over_Features['test_y']-Over_Features['train_y']).mean())\n",
    "print((Under_Features['test_y']-Under_Features['train_y']).mean())\n",
    "print((Decent_Features['test_y']-Decent_Features['train_y']).mean())\n",
    "\n"
   ]
  },
  {
   "cell_type": "code",
   "execution_count": null,
   "metadata": {
    "colab": {
     "base_uri": "https://localhost:8080/"
    },
    "id": "IKybQIh8rQSf",
    "outputId": "42749e9c-7d41-4be8-8010-77452a3b1ad2"
   },
   "outputs": [
    {
     "data": {
      "text/plain": [
       "Index(['SGD_Predict', 'Normal_Predict', 'NormalReg_Predict', 'GLM_Predict',\n",
       "       'RF_Predict', 'test_Y', 'Underpredict'],\n",
       "      dtype='object')"
      ]
     },
     "execution_count": 90,
     "metadata": {
      "tags": []
     },
     "output_type": "execute_result"
    }
   ],
   "source": [
    "data.columns[:-1]"
   ]
  },
  {
   "cell_type": "markdown",
   "metadata": {
    "id": "E9ThWk4TgFlw"
   },
   "source": [
    "# **Summary and Discussion:** **Discuss** \"What would you report back as best model for prediction?\" \n",
    "# Think in terms of Data, Process and Outcomes specifically.\n",
    "## Consider the following:\n",
    "1. Can you process the data in some other way? \n",
    "2. Given a new data set on the job, how would you report the best \"method\"? What are the steps to always follow? \n",
    "3. What is the metric/metrics you would use to report your results?\n",
    "\n",
    "#Share screen and discuss findings. Think about generalizability (something that works across data sets)"
   ]
  },
  {
   "cell_type": "markdown",
   "metadata": {
    "id": "TzDuGlOtiouY"
   },
   "source": [
    "\n",
    "#Discussion\n",
    "\n",
    "Based on RMSE - Gradient Descent solution is the most accurate.\n",
    "\n",
    "1. Data processing can be improved by using pandas data transformation functions.\n",
    "\n",
    "2. With a new data -set we can again compare accuracy of different models on the test + new data-set and decide the best model on RMSE. In addition to this we can further improve models by doing grid-search on hyper-parameters of models using a K-Fold validation method.\n",
    "\n",
    "3. Metrics that can be reported are\n",
    "a. RMSE\n",
    "b. MAE\n",
    "c. R2\n"
   ]
  }
 ],
 "metadata": {
  "colab": {
   "collapsed_sections": [
    "Lx-wS125dnNk",
    "PCLgRXivdnNp",
    "fo-NxmSLdnNr",
    "B6D2kqejdnNv",
    "2ImYOho6dnNy",
    "i3ofJxdUdnN6"
   ],
   "name": "1_Week_2.0_Car_sales_predictions_v1.ipynb",
   "provenance": []
  },
  "kernelspec": {
   "display_name": "Python 3",
   "language": "python",
   "name": "python3"
  },
  "language_info": {
   "codemirror_mode": {
    "name": "ipython",
    "version": 3
   },
   "file_extension": ".py",
   "mimetype": "text/x-python",
   "name": "python",
   "nbconvert_exporter": "python",
   "pygments_lexer": "ipython3",
   "version": "3.8.5"
  }
 },
 "nbformat": 4,
 "nbformat_minor": 1
}
